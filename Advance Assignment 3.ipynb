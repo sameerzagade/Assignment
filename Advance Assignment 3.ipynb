{
 "cells": [
  {
   "cell_type": "code",
   "execution_count": null,
   "id": "6e3c84d5",
   "metadata": {},
   "outputs": [],
   "source": [
    "What is the concept of an abstract superclass?"
   ]
  },
  {
   "cell_type": "code",
   "execution_count": null,
   "id": "ee77c55b",
   "metadata": {},
   "outputs": [],
   "source": [
    "An abstract superclass, or an abstract base class (ABC) in Python, is a class that cannot be instantiated and serves as a blueprint for other classes. \n",
    "It can define abstract methods which are declared but contain no implementation. Subclasses of the ABC are required to provide an implementation for these abstract methods. \n",
    "This enforces a certain level of structure on the subclasses, ensuring they adhere to the interface defined by the ABC. \n",
    "This concept is key to good object-oriented programming design."
   ]
  },
  {
   "cell_type": "code",
   "execution_count": null,
   "id": "ad2ee4c7",
   "metadata": {},
   "outputs": [],
   "source": [
    "2. What happens when a class statements top level contains a basic assignment statement?"
   ]
  },
  {
   "cell_type": "code",
   "execution_count": null,
   "id": "50def5ed",
   "metadata": {},
   "outputs": [],
   "source": [
    "When a basic assignment statement is at the top level of a class statement in Python, it creates a class attribute. \n",
    "This attribute is shared across all instances of the class, unless it is overridden within an instance. \n",
    "It’s a way to define properties that should have the same value in every instance of the class"
   ]
  },
  {
   "cell_type": "code",
   "execution_count": null,
   "id": "9870b3c9",
   "metadata": {},
   "outputs": [],
   "source": [
    "3. Why does a class need to manually call a superclasss __init__ method?"
   ]
  },
  {
   "cell_type": "code",
   "execution_count": null,
   "id": "6cafcdf4",
   "metadata": {},
   "outputs": [],
   "source": [
    "In Python, a class needs to manually call a superclass’s __init__ method to ensure that the initialization code in the superclass gets executed. \n",
    "This is important when the subclass is extending the behavior of the superclass and relies on the superclass’s state being properly set up. \n",
    "If the superclass’s __init__ method isn’t called, the subclass may not behave correctly because the superclass part of the object may not be in a valid state."
   ]
  },
  {
   "cell_type": "code",
   "execution_count": null,
   "id": "eea86ee0",
   "metadata": {},
   "outputs": [],
   "source": [
    "4. How can you augment, instead of completely replacing, an inherited method?"
   ]
  },
  {
   "cell_type": "code",
   "execution_count": null,
   "id": "aee1479f",
   "metadata": {},
   "outputs": [],
   "source": [
    "In Python, you can augment an inherited method by calling the method from the superclass inside the overridden method in the subclass. \n",
    "This allows you to add additional behavior in the subclass’s method without completely replacing the superclass’s method."
   ]
  },
  {
   "cell_type": "code",
   "execution_count": null,
   "id": "8811eac2",
   "metadata": {},
   "outputs": [],
   "source": [
    "5. How is the local scope of a class different from that of a function?"
   ]
  },
  {
   "cell_type": "code",
   "execution_count": null,
   "id": "7f110a15",
   "metadata": {},
   "outputs": [],
   "source": [
    "So, the key difference is the lifetime and accessibility of the variables. \n",
    "In a class, attributes are accessible throughout the class and live as long as the object does. \n",
    "In a function, local variables are only accessible within the function and live only as long as the function call does."
   ]
  }
 ],
 "metadata": {
  "kernelspec": {
   "display_name": "Python 3 (ipykernel)",
   "language": "python",
   "name": "python3"
  },
  "language_info": {
   "codemirror_mode": {
    "name": "ipython",
    "version": 3
   },
   "file_extension": ".py",
   "mimetype": "text/x-python",
   "name": "python",
   "nbconvert_exporter": "python",
   "pygments_lexer": "ipython3",
   "version": "3.11.5"
  }
 },
 "nbformat": 4,
 "nbformat_minor": 5
}
