{
 "cells": [
  {
   "cell_type": "code",
   "execution_count": null,
   "id": "cf48430b",
   "metadata": {},
   "outputs": [],
   "source": [
    "1.\tWrite a Python program to find sum of elements in list?"
   ]
  },
  {
   "cell_type": "code",
   "execution_count": null,
   "id": "50f3c4b0",
   "metadata": {},
   "outputs": [],
   "source": [
    "def sum_of_element(lists):\n",
    "    total=0\n",
    "    for i in lists:\n",
    "        total+=i\n",
    "    return total\n",
    "\n",
    "def main():\n",
    "    list_element=[1,2,3,4,6]\n",
    "    total=sum_of_element(list_element)\n",
    "    print(f\"Sum of elements in the list is {total}\")\n",
    "   \n",
    "\n",
    "if __name__ == \"__main__\":\n",
    "    main()"
   ]
  },
  {
   "cell_type": "code",
   "execution_count": null,
   "id": "3e4ebc07",
   "metadata": {},
   "outputs": [],
   "source": [
    "2.\tWrite a Python program to  Multiply all numbers in the list?"
   ]
  },
  {
   "cell_type": "code",
   "execution_count": null,
   "id": "fdc71b29",
   "metadata": {},
   "outputs": [],
   "source": [
    "def multiply_number(lists):\n",
    "    total = 1\n",
    "    for i in lists:\n",
    "        total= total * i\n",
    "    return total\n",
    "\n",
    "def main():\n",
    "    list_element=[1,2,3,4,6]\n",
    "    total=multiply_number(list_element)\n",
    "    print(f\"Product of numbers in the list is {total}\")\n",
    "   \n",
    "\n",
    "if __name__ == \"__main__\":\n",
    "    main()"
   ]
  },
  {
   "cell_type": "code",
   "execution_count": null,
   "id": "379068e4",
   "metadata": {},
   "outputs": [],
   "source": [
    "3.\tWrite a Python program to find smallest number in a list?"
   ]
  },
  {
   "cell_type": "code",
   "execution_count": null,
   "id": "67222f82",
   "metadata": {},
   "outputs": [],
   "source": [
    "def smallest_number(lists):\n",
    "    lists.sort()\n",
    "    return lists[0]\n",
    "\n",
    "def main():\n",
    "    list_element=[8,5,97,7,0,-1,8,9]\n",
    "    small=smallest_number(list_element)\n",
    "    print(f\"Smallest number in the list is {small}\")\n",
    "   \n",
    "if __name__ == \"__main__\":\n",
    "    main()"
   ]
  },
  {
   "cell_type": "code",
   "execution_count": null,
   "id": "dd4ab2be",
   "metadata": {},
   "outputs": [],
   "source": [
    "4.\tWrite a Python program to find largest number in a list?"
   ]
  },
  {
   "cell_type": "code",
   "execution_count": null,
   "id": "883f3360",
   "metadata": {},
   "outputs": [],
   "source": [
    "def largest_number(lists):\n",
    "    lists.sort(reverse=True)\n",
    "    return lists[0]\n",
    "\n",
    "def main():\n",
    "    list_element=[8,5,97,7,0,-1,8,9]\n",
    "    large=largest_number(list_element)\n",
    "    print(f\"Largest number in the list is {large}\")\n",
    "   \n",
    "if __name__ == \"__main__\":\n",
    "    main()"
   ]
  },
  {
   "cell_type": "code",
   "execution_count": null,
   "id": "03e12ade",
   "metadata": {},
   "outputs": [],
   "source": [
    "5.\tWrite a Python program to find second largest number in a list?"
   ]
  },
  {
   "cell_type": "code",
   "execution_count": null,
   "id": "09d84cc3",
   "metadata": {},
   "outputs": [],
   "source": [
    "def second_largest_number(lists):\n",
    "    lists.sort(reverse=True)\n",
    "    return lists[1]\n",
    "\n",
    "def main():\n",
    "    list_element=[8,5,97,7,0,-1,8,9]\n",
    "    second_large=second_largest_number(list_element)\n",
    "    print(f\"Second Largest number in the list is {second_large}\")\n",
    "   \n",
    "if __name__ == \"__main__\":\n",
    "    main()"
   ]
  },
  {
   "cell_type": "code",
   "execution_count": null,
   "id": "d953363d",
   "metadata": {},
   "outputs": [],
   "source": [
    "6.\tWrite a Python program to find N largest elements from a list?"
   ]
  },
  {
   "cell_type": "code",
   "execution_count": null,
   "id": "b17130c5",
   "metadata": {},
   "outputs": [],
   "source": [
    "def largest_number(lists, N):\n",
    "    lists.sort(reverse=True)\n",
    "    return lists[N]\n",
    "\n",
    "def main():\n",
    "    N=int(input('Enter the position of largest number you want from the list: '))\n",
    "    list_element=[10,18,91,74,65,1,6]\n",
    "    if N-1 < len(list_element):\n",
    "        N_large=largest_number(list_element, (N-1))\n",
    "        print(f\"{N} Largest number in the list is {N_large}\")\n",
    "    else:\n",
    "        print(f\"Length of the list is less than {N}\")\n",
    "    \n",
    "if __name__ == \"__main__\":\n",
    "    main()"
   ]
  },
  {
   "cell_type": "code",
   "execution_count": null,
   "id": "52c0dfca",
   "metadata": {},
   "outputs": [],
   "source": [
    "7.\tWrite a Python program to print even numbers in a list?"
   ]
  },
  {
   "cell_type": "code",
   "execution_count": 7,
   "id": "45f26a5c",
   "metadata": {},
   "outputs": [
    {
     "name": "stdout",
     "output_type": "stream",
     "text": [
      "Even number in the list is [10, 18, 74, 6]\n"
     ]
    }
   ],
   "source": [
    "def even_number(lists):\n",
    "    list_even_numbers=[]\n",
    "    for i in lists:\n",
    "        if i%2==0:\n",
    "            list_even_numbers.append(i)\n",
    "        else:\n",
    "            pass\n",
    "    return list_even_numbers\n",
    "\n",
    "def main():\n",
    "    list_element=[10,18,91,74,65,1,6]\n",
    "    list_even_numbers=even_number(list_element)\n",
    "    if len(list_even_numbers) > 0 : \n",
    "        print(f\"Even number in the list is {list_even_numbers}\")\n",
    "    else:\n",
    "        print(f\"There are no even numbers in the list\")\n",
    "    \n",
    "if __name__ == \"__main__\":\n",
    "    main()"
   ]
  },
  {
   "cell_type": "code",
   "execution_count": null,
   "id": "651a1cca",
   "metadata": {},
   "outputs": [],
   "source": [
    "8.\tWrite a Python program to print odd numbers in a List?"
   ]
  },
  {
   "cell_type": "code",
   "execution_count": 10,
   "id": "6a1f8216",
   "metadata": {},
   "outputs": [
    {
     "name": "stdout",
     "output_type": "stream",
     "text": [
      "Even number in the list is [91, 65, 1]\n"
     ]
    }
   ],
   "source": [
    "def odd_number(lists):\n",
    "    list_odd_numbers=[]\n",
    "    for i in lists:\n",
    "        if i%2==1:\n",
    "            list_odd_numbers.append(i)\n",
    "        else:\n",
    "            pass\n",
    "    return list_odd_numbers\n",
    "\n",
    "def main():\n",
    "    list_element=[10,18,91,74,65,1,6]\n",
    "    list_of_odd_numbers=odd_number(list_element)\n",
    "    if len(list_of_odd_numbers) > 0 : \n",
    "        print(f\"Odd number in the list is {list_of_odd_numbers}\")\n",
    "    else:\n",
    "        print(f\"There is no odd numbers in the list\")\n",
    "    \n",
    "if __name__ == \"__main__\":\n",
    "    main()"
   ]
  },
  {
   "cell_type": "code",
   "execution_count": null,
   "id": "cd83c75e",
   "metadata": {},
   "outputs": [],
   "source": [
    "9.\tWrite a Python program to Remove empty List from List?"
   ]
  },
  {
   "cell_type": "code",
   "execution_count": 20,
   "id": "f73e24d5",
   "metadata": {},
   "outputs": [
    {
     "name": "stdout",
     "output_type": "stream",
     "text": [
      "List without empty list is [10, 18, [12], 91, 74, 65, 1, 6, ['one', 'two', 'three'], {1: 'a', 2: 'b'}, [3, 2, 1], (6, 5, 4), [3, 'three']]\n"
     ]
    }
   ],
   "source": [
    "def remove_empty_list(lists):\n",
    "    list_without_empty_list=[]\n",
    "    for i in lists:\n",
    "        if type(i)== list:\n",
    "            if len(i) > 0:\n",
    "                list_without_empty_list.append(i)\n",
    "            else:\n",
    "                pass\n",
    "        else:\n",
    "            list_without_empty_list.append(i)\n",
    "    return list_without_empty_list\n",
    "\n",
    "def main():\n",
    "    list_element=[[],10,18,[12],91,74,[],65,1,6,['one','two','three'],{1:'a', 2:'b'},[3,2,1],(6,5,4),[3,'three'] ]\n",
    "    list_without_empty_list=remove_empty_list(list_element)\n",
    "    if len(list_without_empty_list) > 0 :\n",
    "        print(f\"List without empty list is {list_without_empty_list}\")\n",
    "    else:\n",
    "        print(f\"The list contains all empty list\")\n",
    "    \n",
    "if __name__ == \"__main__\":\n",
    "    main()"
   ]
  },
  {
   "cell_type": "code",
   "execution_count": null,
   "id": "ae6ce5c9",
   "metadata": {},
   "outputs": [],
   "source": [
    "10.\tWrite a Python program to Cloning or Copying a list?"
   ]
  },
  {
   "cell_type": "code",
   "execution_count": 25,
   "id": "26e2b45d",
   "metadata": {},
   "outputs": [
    {
     "name": "stdout",
     "output_type": "stream",
     "text": [
      "clone List [[], 10, 18, [12], 91, 74, [], 65, 1, 6, ['one', 'two', 'three'], {1: 'a', 2: 'b'}, [3, 2, 1], (6, 5, 4), [3, 'three']]\n"
     ]
    }
   ],
   "source": [
    "\n",
    "def clone_list(original_list):\n",
    "    import copy\n",
    "    cloned_list = original_list.copy()\n",
    "    return cloned_list\n",
    "\n",
    "def main():\n",
    "    list_element=[[],10,18,[12],91,74,[],65,1,6,['one','two','three'],{1:'a', 2:'b'},[3,2,1],(6,5,4),[3,'three'] ]\n",
    "    cloned_list = clone_list(list_element)\n",
    "    print(f\"clone List {cloned_list}\")\n",
    "    \n",
    "if __name__ == \"__main__\":\n",
    "    main()"
   ]
  },
  {
   "cell_type": "code",
   "execution_count": null,
   "id": "f8310824",
   "metadata": {},
   "outputs": [],
   "source": [
    "11.\tWrite a Python program to Count occurrences of an element in a list?"
   ]
  },
  {
   "cell_type": "code",
   "execution_count": 39,
   "id": "0995dd0e",
   "metadata": {},
   "outputs": [
    {
     "name": "stdout",
     "output_type": "stream",
     "text": [
      "Count of elements in key value pair wherein key is element and value is its count {10: 1, 18: 1, 12: 1, 91: 1, 74: 1, 65: 1, 1: 3, 6: 2, 'a': 1, 2: 2, 'b': 1, 3: 2, 5: 1, 4: 1, 'three': 1}\n"
     ]
    }
   ],
   "source": [
    "def count_element(original_list):\n",
    "    count_of_element={}\n",
    "    for i in original_list:\n",
    "        count_of_element.update({i:original_list.count(i)})\n",
    "    return count_of_element\n",
    "\n",
    "def main():\n",
    "    list_element=[10,18,12,91,74,65,1,6,1,'a', 2,'b',3,2,1,6,5,4,3,'three']\n",
    "    count_of_element = count_element(list_element)\n",
    "    print(f\"Count of elements in key value pair wherein key is element and value is its count {count_of_element}\")\n",
    "    \n",
    "if __name__ == \"__main__\":\n",
    "    main()"
   ]
  },
  {
   "cell_type": "code",
   "execution_count": null,
   "id": "24c56c6e",
   "metadata": {},
   "outputs": [],
   "source": []
  }
 ],
 "metadata": {
  "kernelspec": {
   "display_name": "Python 3 (ipykernel)",
   "language": "python",
   "name": "python3"
  },
  "language_info": {
   "codemirror_mode": {
    "name": "ipython",
    "version": 3
   },
   "file_extension": ".py",
   "mimetype": "text/x-python",
   "name": "python",
   "nbconvert_exporter": "python",
   "pygments_lexer": "ipython3",
   "version": "3.10.5"
  }
 },
 "nbformat": 4,
 "nbformat_minor": 5
}
