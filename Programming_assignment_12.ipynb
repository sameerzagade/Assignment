{
 "cells": [
  {
   "cell_type": "code",
   "execution_count": null,
   "id": "571e65ac",
   "metadata": {},
   "outputs": [],
   "source": [
    "1.\tWrite a Python program to Extract Unique values dictionary values?"
   ]
  },
  {
   "cell_type": "code",
   "execution_count": 33,
   "id": "d950a15c",
   "metadata": {},
   "outputs": [
    {
     "name": "stdout",
     "output_type": "stream",
     "text": [
      "Unique values from dictionary values: {2, 4, 5, 6}\n"
     ]
    }
   ],
   "source": [
    "def extract_unique_values(dictionary):\n",
    "    unique_values = set()\n",
    "    for values in dictionary.values():\n",
    "        unique_values.add(values)\n",
    "    return unique_values\n",
    "\n",
    "def main():\n",
    "    my_dict= {\"a\": 5, \"b\": 2,\"c\": 6,\"d\": 4,\"e\": 5}\n",
    "    unique_values = extract_unique_values(my_dict)\n",
    "    print(\"Unique values from dictionary values:\", unique_values)\n",
    "    \n",
    "if __name__ == \"__main__\":\n",
    "    main()"
   ]
  },
  {
   "cell_type": "code",
   "execution_count": null,
   "id": "1d7b66e3",
   "metadata": {},
   "outputs": [],
   "source": [
    "2.\tWrite a Python program to find the sum of all items in a dictionary?"
   ]
  },
  {
   "cell_type": "code",
   "execution_count": 39,
   "id": "b7e500b5",
   "metadata": {},
   "outputs": [
    {
     "name": "stdout",
     "output_type": "stream",
     "text": [
      "Sum of values from dictionary values: 22\n"
     ]
    }
   ],
   "source": [
    "def sum_values(dictionary):\n",
    "    sum_of_values = 0\n",
    "    try:\n",
    "        for value in dictionary.values():\n",
    "            sum_of_values += value\n",
    "    except Exception as e:\n",
    "        print(\"An error occurred:\", e)\n",
    "        return None\n",
    "    return sum_of_values\n",
    "\n",
    "def main():\n",
    "    my_dict = {\"a\": 5, \"b\": 2, \"c\": 6, \"d\": 4, \"e\": 5}\n",
    "    sum_of_values = sum_values(my_dict)\n",
    "    if sum_of_values is not None:\n",
    "        print(\"Sum of values from dictionary values:\", sum_of_values)\n",
    "    else:\n",
    "        print(\"Sum calculation failed.\")\n",
    "\n",
    "if __name__ == \"__main__\":\n",
    "    main()\n"
   ]
  },
  {
   "cell_type": "code",
   "execution_count": null,
   "id": "ff40ea8e",
   "metadata": {},
   "outputs": [],
   "source": [
    "3.\tWrite a Python program to Merging two Dictionaries?"
   ]
  },
  {
   "cell_type": "code",
   "execution_count": 17,
   "id": "961bdc0d",
   "metadata": {},
   "outputs": [
    {
     "name": "stdout",
     "output_type": "stream",
     "text": [
      "Dictionary after merging: {'a': 5, 'b': 2, 'c': 6, 'd': 4, 'e': 6, 'f': 5, 'g': 2, 'h': 6, 'i': 4}\n"
     ]
    }
   ],
   "source": [
    "def merge_values(dict1, dict2):\n",
    "    return(dict1.update(dict2))\n",
    "\n",
    "def main():\n",
    "    my_dict1= {\"a\": 5, \"b\": 2,\"c\": 6,\"d\": 4,\"e\": 5}\n",
    "    my_dict2= {\"f\": 5, \"g\": 2,\"h\": 6,\"i\": 4,\"e\": 6}\n",
    "    merge_values(my_dict1, my_dict2)\n",
    "    print(\"Dictionary after merging:\", my_dict1)\n",
    "    \n",
    "if __name__ == \"__main__\":\n",
    "    main()"
   ]
  },
  {
   "cell_type": "code",
   "execution_count": null,
   "id": "0b8f4199",
   "metadata": {},
   "outputs": [],
   "source": [
    "4.\tWrite a Python program to convert key-values list to flat dictionary?"
   ]
  },
  {
   "cell_type": "code",
   "execution_count": 47,
   "id": "e29a41b4",
   "metadata": {},
   "outputs": [
    {
     "name": "stdout",
     "output_type": "stream",
     "text": [
      "The original dictionary is : {'numbers': [1, 2, 3], 'letters': ['a', 'b', 'c']}\n",
      "Flattened dictionary : {1: 'a', 2: 'b', 3: 'c'}\n"
     ]
    }
   ],
   "source": [
    "def flat_dictionary(my_dict):\n",
    "    res = {}\n",
    "    for i in range(len(my_dict['numbers'])):\n",
    "        res[my_dict['numbers'][i]] = my_dict['letters'][i]\n",
    "    return res\n",
    "\n",
    "def main():\n",
    "    my_dict = {'numbers' : [1, 2, 3],'letters' : ['a', 'b', 'c']}\n",
    "    flat_dictionary(my_dict)\n",
    "    print(f\"The original dictionary is : {my_dict}\")\n",
    "    print(f\"Flattened dictionary : {flat_dictionary(my_dict)}\" )\n",
    "    \n",
    "if __name__ == \"__main__\":\n",
    "    main()"
   ]
  },
  {
   "cell_type": "code",
   "execution_count": null,
   "id": "fc7e13b8",
   "metadata": {},
   "outputs": [],
   "source": [
    "5.\tWrite a Python program to insertion at the beginning in OrderedDict?"
   ]
  },
  {
   "cell_type": "code",
   "execution_count": 19,
   "id": "e4071462",
   "metadata": {},
   "outputs": [
    {
     "name": "stdout",
     "output_type": "stream",
     "text": [
      "Original OrderedDict: OrderedDict([('one', 1), ('two', 2), ('three', 3)])\n",
      "After inserting OrderedDict: OrderedDict([('zero', 0), ('one', 1), ('two', 2), ('three', 3)])\n"
     ]
    }
   ],
   "source": [
    "from collections import OrderedDict\n",
    "\n",
    "def insert_at_beginning(odict, key, value):\n",
    "    if key in odict:\n",
    "        odict.move_to_end(key, last=False)\n",
    "    else:\n",
    "        odict[key] = value\n",
    "        odict.move_to_end(key, last=False)\n",
    "\n",
    "def main():\n",
    "    ordered_dict = OrderedDict([('one', 1), ('two', 2), ('three', 3)])\n",
    "    print(f\"Original OrderedDict: {ordered_dict}\")\n",
    "    insert_at_beginning(ordered_dict, 'zero', 0)\n",
    "    print(f\"After inserting OrderedDict: {ordered_dict}\")\n",
    "\n",
    "if __name__ == \"__main__\":\n",
    "    main()"
   ]
  },
  {
   "cell_type": "code",
   "execution_count": null,
   "id": "7efbadf1",
   "metadata": {},
   "outputs": [],
   "source": [
    "6.\tWrite a Python program to check order of character in string using OrderedDict()?"
   ]
  },
  {
   "cell_type": "code",
   "execution_count": 62,
   "id": "63b9f1d4",
   "metadata": {},
   "outputs": [
    {
     "name": "stdout",
     "output_type": "stream",
     "text": [
      "Enter Text : Hello, World!\n",
      "Enter characters to check whether they are in order in given Text : HW\n",
      " characters entered HW are in order as per Hello, World!\n"
     ]
    }
   ],
   "source": [
    "from collections import OrderedDict \n",
    "def checkOrder(string, pattern): \n",
    "    dic = OrderedDict.fromkeys(string) \n",
    "    ptr = 0\n",
    "    for key,value in dic.items(): \n",
    "        if (key == pattern[ptr]): \n",
    "            ptr = ptr + 1\n",
    "        if (ptr == (len(pattern))): \n",
    "            return 'True'\n",
    "    return 'False'\n",
    "\n",
    "def main():\n",
    "    string = input(\"Enter Text : \")\n",
    "    pattern =input(\"Enter characters to check whether they are in order in given Text : \")\n",
    "    result= checkOrder(string,pattern)\n",
    "    if result == \"True\":\n",
    "        print(f\" characters entered {pattern} are in order as per {string}\")\n",
    "    else:\n",
    "        print(f\" characters entered {pattern} are not in order as per {string}\")\n",
    "\n",
    "if __name__ == \"__main__\":\n",
    "    main()"
   ]
  },
  {
   "cell_type": "code",
   "execution_count": null,
   "id": "5a268840",
   "metadata": {},
   "outputs": [],
   "source": [
    "7.\tWrite a Python program to sort Python Dictionaries by Key or Value?"
   ]
  },
  {
   "cell_type": "code",
   "execution_count": 59,
   "id": "350298cc",
   "metadata": {},
   "outputs": [
    {
     "name": "stdout",
     "output_type": "stream",
     "text": [
      "[('a', 1), ('c', 2), ('b', 3)]\n"
     ]
    }
   ],
   "source": [
    "def sort_dict(my_dict):\n",
    "    sorted_by_keys = sorted(my_dict.items())\n",
    "    print(sorted_by_keys)\n",
    "\n",
    "def main\n",
    "my_dict = {'b': 3, 'a': 1, 'c': 2}\n",
    "\n",
    "sorted_by_keys = sorted(my_dict.items())\n",
    "print(sorted_by_keys)\n"
   ]
  },
  {
   "cell_type": "code",
   "execution_count": null,
   "id": "42ff3920",
   "metadata": {},
   "outputs": [],
   "source": []
  }
 ],
 "metadata": {
  "kernelspec": {
   "display_name": "Python 3 (ipykernel)",
   "language": "python",
   "name": "python3"
  },
  "language_info": {
   "codemirror_mode": {
    "name": "ipython",
    "version": 3
   },
   "file_extension": ".py",
   "mimetype": "text/x-python",
   "name": "python",
   "nbconvert_exporter": "python",
   "pygments_lexer": "ipython3",
   "version": "3.10.5"
  }
 },
 "nbformat": 4,
 "nbformat_minor": 5
}
