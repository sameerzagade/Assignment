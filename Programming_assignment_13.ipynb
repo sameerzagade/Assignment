{
 "cells": [
  {
   "cell_type": "code",
   "execution_count": null,
   "id": "0226f5c1",
   "metadata": {},
   "outputs": [],
   "source": [
    "Question 1:\n",
    "\n",
    "Write a program that calculates and prints the value according to the given formula:\n",
    "\n",
    "Q = Square root of [(2 * C * D)/H]\n",
    "\n",
    "Following are the fixed values of C and H:\n",
    "\n",
    "C is 50. H is 30.\n",
    "\n",
    "D is the variable whose values should be input to your program in a comma-separated sequence.\n",
    "\n",
    "Example\n",
    "\n",
    "Let us assume the following comma separated input sequence is given to the program:\n",
    "\n",
    "100,150,180\n",
    "\n",
    "The output of the program should be:\n",
    "\n",
    "18,22,24\n"
   ]
  },
  {
   "cell_type": "code",
   "execution_count": 4,
   "id": "82396208",
   "metadata": {},
   "outputs": [
    {
     "name": "stdout",
     "output_type": "stream",
     "text": [
      "Enter number separated by comma:100, 200, 300\n",
      "The output of the program should be: 18, 25, 31\n"
     ]
    }
   ],
   "source": [
    "import math\n",
    "\n",
    "def square_root_math(number_list):\n",
    "    num_list = number_list.split(\",\")\n",
    "    C = 50\n",
    "    H = 30\n",
    "    q_values = [] \n",
    "    for D in num_list:\n",
    "        formula = (2 * C * int(D)) / H\n",
    "        Q = math.sqrt(formula)\n",
    "        q_values.append(int(Q))\n",
    "\n",
    "    q_string = \", \".join(map(str, q_values))\n",
    "    return q_string\n",
    " \n",
    "def main():\n",
    "    number_list= input(\"Enter number separated by comma:\")\n",
    "    try:\n",
    "        Final_result =square_root_math(number_list)\n",
    "        print(f\"The output of the program should be: {Final_result}\")\n",
    "    except Exception as e:\n",
    "        print(\"An error occurred:\", e)\n",
    "        \n",
    "if __name__==\"__main__\":\n",
    "    main()"
   ]
  },
  {
   "cell_type": "code",
   "execution_count": null,
   "id": "76a6707c",
   "metadata": {},
   "outputs": [],
   "source": [
    "Question 2:\n",
    "Write a program which takes 2 digits, X,Y as input and generates a 2-dimensional array. The element value in the i-th row and j-th column of the array should be i*j.\n",
    "\n",
    "Note: i=0,1.., X-1; j=0,1,¡¬Y-1.\n",
    "\n",
    "Example\n",
    "\n",
    "Suppose the following inputs are given to the program:\n",
    "\n",
    "3,5\n",
    "\n",
    "Then, the output of the program should be:\n",
    "\n",
    "[[0, 0, 0, 0, 0], [0, 1, 2, 3, 4], [0, 2, 4, 6, 8]] \n"
   ]
  },
  {
   "cell_type": "code",
   "execution_count": 29,
   "id": "d497711e",
   "metadata": {},
   "outputs": [
    {
     "name": "stdout",
     "output_type": "stream",
     "text": [
      "Enter two digits X and Y: 3,5\n",
      "[0, 0, 0, 0, 0]\n",
      "[0, 1, 2, 3, 4]\n",
      "[0, 2, 4, 6, 8]\n"
     ]
    }
   ],
   "source": [
    "def generate_2d_array(X, Y):\n",
    "    array = []\n",
    "    for i in range(X):\n",
    "        row = []\n",
    "        for j in range(Y):\n",
    "            row.append(i * j)\n",
    "        array.append(row)\n",
    "    return array\n",
    "\n",
    "def main():\n",
    "    X, Y = map(int, input(\"Enter two digits X and Y: \").split(\",\"))\n",
    "    result_array = generate_2d_array(X, Y)\n",
    "    for row in result_array:\n",
    "        print(row)\n",
    "\n",
    "if __name__==\"__main__\":\n",
    "    main()"
   ]
  },
  {
   "cell_type": "code",
   "execution_count": 23,
   "id": "c5f88abc",
   "metadata": {},
   "outputs": [],
   "source": [
    "Question 3:\n",
    "Write a program that accepts a comma separated sequence of words as input and prints the words in a comma-separated sequence after sorting them alphabetically.\n",
    "\n",
    "Suppose the following input is supplied to the program:\n",
    "\n",
    "without,hello,bag,world\n",
    "\n",
    "Then, the output should be:\n",
    "\n",
    "bag,hello,without,world\n"
   ]
  },
  {
   "cell_type": "code",
   "execution_count": 36,
   "id": "528be2ae",
   "metadata": {},
   "outputs": [
    {
     "name": "stdout",
     "output_type": "stream",
     "text": [
      "Enter a comma-separated sequence of words: without,hello,bag,world\n",
      "Sorted result: bag,hello,without,world\n"
     ]
    }
   ],
   "source": [
    "def sort_words(input_string):\n",
    "    words = input_string.split(',')\n",
    "    sorted_words = sorted(words)\n",
    "    sorted_string = ','.join(sorted_words)\n",
    "    return sorted_string\n",
    "\n",
    "\n",
    "def main():\n",
    "    input_string = input(\"Enter a comma-separated sequence of words: \")\n",
    "    sorted_result = sort_words(input_string)\n",
    "    print(\"Sorted result:\", sorted_result)\n",
    "    \n",
    "if __name__==\"__main__\":\n",
    "    main()"
   ]
  },
  {
   "cell_type": "code",
   "execution_count": null,
   "id": "0044d12d",
   "metadata": {},
   "outputs": [],
   "source": [
    "Question 4:\n",
    "Write a program that accepts a sequence of whitespace separated words as input and prints the words after removing all duplicate words and sorting them alphanumerically.\n",
    "\n",
    "Suppose the following input is supplied to the program:\n",
    "\n",
    "hello world and practice makes perfect and hello world again\n",
    "\n",
    "Then, the output should be:\n",
    "\n",
    "again and hello makes perfect practice world\n",
    "\n"
   ]
  },
  {
   "cell_type": "code",
   "execution_count": 41,
   "id": "e85df756",
   "metadata": {},
   "outputs": [
    {
     "name": "stdout",
     "output_type": "stream",
     "text": [
      "Enter a comma-separated sequence of words: hello world and practice makes perfect and hello world again\n",
      "Sorted result: again and hello makes perfect practice world\n"
     ]
    }
   ],
   "source": [
    "def sort_uniqu_words(input_string):\n",
    "    words = input_string.split()\n",
    "    unique_words = list(set(words))\n",
    "    sorted_words = sorted(unique_words)\n",
    "    sorted_string = ' '.join(sorted_words)\n",
    "    return sorted_string\n",
    "\n",
    "\n",
    "def main():\n",
    "    input_string = input(\"Enter a comma-separated sequence of words: \")\n",
    "    sorted_result = sort_uniqu_words(input_string)\n",
    "    print(\"Sorted result:\", sorted_result)\n",
    "    \n",
    "if __name__==\"__main__\":\n",
    "    main()"
   ]
  },
  {
   "cell_type": "code",
   "execution_count": null,
   "id": "3ec9f7b0",
   "metadata": {},
   "outputs": [],
   "source": [
    "Question 5:\n",
    "Write a program that accepts a sentence and calculate the number of letters and digits.\n",
    "\n",
    "Suppose the following input is supplied to the program:\n",
    "\n",
    "hello world! 123\n",
    "\n",
    "Then, the output should be:\n",
    "\n",
    "LETTERS 10\n",
    "\n",
    "DIGITS 3"
   ]
  },
  {
   "cell_type": "code",
   "execution_count": 17,
   "id": "ef7a392e",
   "metadata": {},
   "outputs": [
    {
     "name": "stdout",
     "output_type": "stream",
     "text": [
      "Enter text. We will display the number of letters and digits: hello world! 123\n",
      "Number of Letters: 10, Number of Digits: 3\n"
     ]
    }
   ],
   "source": [
    "def number_of_letters_and_digits(sentence):\n",
    "    Letters = 0\n",
    "    Digits = 0\n",
    "    for i in sentence:\n",
    "        if i.isalpha():\n",
    "            Letters += 1\n",
    "        elif i.isdigit():\n",
    "            Digits += 1\n",
    "    return Letters, Digits\n",
    "\n",
    "def main():\n",
    "    sentence = input(\"Enter text. We will display the number of letters and digits: \")\n",
    "    result = number_of_letters_and_digits(sentence)\n",
    "    letters_count, digits_count = result\n",
    "    print(f\"Number of Letters: {letters_count}, Number of Digits: {digits_count}\")\n",
    "\n",
    "if __name__ == \"__main__\":\n",
    "    main()"
   ]
  },
  {
   "cell_type": "code",
   "execution_count": 12,
   "id": "b933348b",
   "metadata": {},
   "outputs": [
    {
     "name": "stdout",
     "output_type": "stream",
     "text": [
      "1 0\n"
     ]
    }
   ],
   "source": [
    "Question 6:\n",
    "A website requires the users to input username and password to register. Write a program to check the validity of password input by users.\n",
    "\n",
    "Following are the criteria for checking the password:\n",
    "\n",
    "1. At least 1 letter between [a-z]\n",
    "\n",
    "2. At least 1 number between [0-9]\n",
    "\n",
    "1. At least 1 letter between [A-Z]\n",
    "\n",
    "3. At least 1 character from [$#@]\n",
    "\n",
    "4. Minimum length of transaction password: 6\n",
    "\n",
    "5. Maximum length of transaction password: 12\n",
    "\n",
    "Your program should accept a sequence of comma separated passwords and will check them according to the above criteria. \n",
    "Passwords that match the criteria are to be printed, each separated by a comma.\n",
    "\n",
    "Example\n",
    "\n",
    "If the following passwords are given as input to the program:\n",
    "\n",
    "ABd1234@1,a F1#,2w3E*,2We3345\n",
    "\n",
    "Then, the output of the program should be:\n",
    "\n",
    "ABd1234@1\n"
   ]
  },
  {
   "cell_type": "code",
   "execution_count": 22,
   "id": "35d5e66f",
   "metadata": {},
   "outputs": [
    {
     "name": "stdout",
     "output_type": "stream",
     "text": [
      "Please enter password sepearated by comma: ABd1234@1,a@F1#qw,2w3E*,2We3345\n",
      "['ABd1234@1', 'a@F1#qw']\n"
     ]
    }
   ],
   "source": [
    "import re\n",
    "\n",
    "def check_password(password):\n",
    "    pattern = r\"^(?=.*[a-z])(?=.*[A-Z])(?=.*[0-9])(?=.*[$#@]).{6,12}$\"\n",
    "    return re.match(pattern, password) is not None\n",
    "\n",
    "def main():\n",
    "    passwords= input(\"Please enter password sepearated by comma: \")\n",
    "    words = passwords.split(',')\n",
    "    valid_password=[]\n",
    "    for password in words:\n",
    "        if check_password(password):\n",
    "            valid_password.append(password)\n",
    "        else:\n",
    "            pass\n",
    "    print(valid_password)\n",
    "\n",
    "if __name__ == \"__main__\":\n",
    "    main()"
   ]
  },
  {
   "cell_type": "code",
   "execution_count": null,
   "id": "d73ebd84",
   "metadata": {},
   "outputs": [],
   "source": []
  }
 ],
 "metadata": {
  "kernelspec": {
   "display_name": "Python 3 (ipykernel)",
   "language": "python",
   "name": "python3"
  },
  "language_info": {
   "codemirror_mode": {
    "name": "ipython",
    "version": 3
   },
   "file_extension": ".py",
   "mimetype": "text/x-python",
   "name": "python",
   "nbconvert_exporter": "python",
   "pygments_lexer": "ipython3",
   "version": "3.10.5"
  }
 },
 "nbformat": 4,
 "nbformat_minor": 5
}
