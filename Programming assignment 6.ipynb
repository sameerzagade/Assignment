{
 "cells": [
  {
   "cell_type": "markdown",
   "id": "91b2314e",
   "metadata": {},
   "source": [
    "1.\tWrite a Python Program to Display Fibonacci Sequence Using Recursion?"
   ]
  },
  {
   "cell_type": "code",
   "execution_count": null,
   "id": "7ad70a08",
   "metadata": {},
   "outputs": [],
   "source": [
    "def fibo(n):\n",
    "    if n <= 1:\n",
    "        return n\n",
    "    else:\n",
    "        return(fibo(n-1) + fibo(n-2))\n",
    "    \n",
    "nterms=int(input(\"Please enter number\"))\n",
    "\n",
    "if nterms <= 0:\n",
    "    print(\"Plese enter a positive integer\")\n",
    "else:\n",
    "    print(\"Fibonacci sequence:\")\n",
    "    for i in range(1,nterms+1):\n",
    "        print(fibo(i))"
   ]
  },
  {
   "cell_type": "markdown",
   "id": "28d94c0a",
   "metadata": {},
   "source": [
    "2.\tWrite a Python Program to Find Factorial of Number Using Recursion?"
   ]
  },
  {
   "cell_type": "code",
   "execution_count": 11,
   "id": "57059ac8",
   "metadata": {},
   "outputs": [
    {
     "name": "stdout",
     "output_type": "stream",
     "text": [
      "Enter a number15\n",
      "The factorial of 15 is 1307674368000\n"
     ]
    }
   ],
   "source": [
    "def facto(a):\n",
    "    if a==1:\n",
    "        return 1\n",
    "    else:\n",
    "        return a*(facto(a-1))\n",
    "    \n",
    "num=int(input(\"Enter a number\"))\n",
    "\n",
    "if num < 0:\n",
    "    print(\"Sorry, factorial does not exist for negative numbers\")\n",
    "elif num == 0:\n",
    "    print(\"The factorial of 0 is 1\")\n",
    "else:\n",
    "    print(\"The factorial of\", num, \"is\", facto(num))"
   ]
  },
  {
   "cell_type": "markdown",
   "id": "19766fc4",
   "metadata": {},
   "source": [
    "3.\tWrite a Python Program to calculate your Body Mass Index?"
   ]
  },
  {
   "cell_type": "code",
   "execution_count": 33,
   "id": "d0b9d59e",
   "metadata": {},
   "outputs": [
    {
     "name": "stdout",
     "output_type": "stream",
     "text": [
      "Enter height in meters 1.5\n",
      "Enter 1.weight in Kg 75\n",
      "The BMI of 1.5 meters height and 75.0 kg weight is 33.333333333333336\n"
     ]
    }
   ],
   "source": [
    "def bmi(b,c):\n",
    "    return (c/(b*b))\n",
    "\n",
    "b = float(input(\"Enter height in meters \"))\n",
    "c = float(input(\"Enter 1.weight in Kg \"))\n",
    "\n",
    "if b and b <= 0:\n",
    "    print(\"Sorry, BMI does not exist for negative numbers\")\n",
    "else:\n",
    "    print(\"The BMI of\", b ,\"meters height and\", c ,\"kg weight\" , \"is\", bmi(b,c))"
   ]
  },
  {
   "cell_type": "markdown",
   "id": "415a8e32",
   "metadata": {},
   "source": [
    "4.\tWrite a Python Program to calculate the natural logarithm of any number?"
   ]
  },
  {
   "cell_type": "code",
   "execution_count": 7,
   "id": "1b3d9aa8",
   "metadata": {},
   "outputs": [
    {
     "name": "stdout",
     "output_type": "stream",
     "text": [
      "math.log(2)is:  0.6931471805599453\n"
     ]
    }
   ],
   "source": [
    "import math\n",
    "\n",
    "print(\"math.log(2)is: \",math.log(2))"
   ]
  },
  {
   "cell_type": "markdown",
   "id": "6c9a1544",
   "metadata": {},
   "source": [
    "5.\tWrite a Python Program for cube sum of first n natural numbers?"
   ]
  },
  {
   "cell_type": "code",
   "execution_count": 32,
   "id": "f75ab4c1",
   "metadata": {},
   "outputs": [],
   "source": [
    "def cubesum(n):\n",
    "    sum = 0\n",
    "    for i in range(0,n+1):\n",
    "        sum += i*i*i\n",
    "    return sum"
   ]
  },
  {
   "cell_type": "code",
   "execution_count": 33,
   "id": "de1b7fd5",
   "metadata": {},
   "outputs": [
    {
     "data": {
      "text/plain": [
       "36"
      ]
     },
     "execution_count": 33,
     "metadata": {},
     "output_type": "execute_result"
    }
   ],
   "source": [
    "cubesum(3)"
   ]
  },
  {
   "cell_type": "code",
   "execution_count": null,
   "id": "224ba540",
   "metadata": {},
   "outputs": [],
   "source": []
  }
 ],
 "metadata": {
  "kernelspec": {
   "display_name": "Python 3 (ipykernel)",
   "language": "python",
   "name": "python3"
  },
  "language_info": {
   "codemirror_mode": {
    "name": "ipython",
    "version": 3
   },
   "file_extension": ".py",
   "mimetype": "text/x-python",
   "name": "python",
   "nbconvert_exporter": "python",
   "pygments_lexer": "ipython3",
   "version": "3.10.5"
  }
 },
 "nbformat": 4,
 "nbformat_minor": 5
}
