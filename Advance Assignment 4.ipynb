{
 "cells": [
  {
   "cell_type": "code",
   "execution_count": null,
   "id": "23633f83",
   "metadata": {},
   "outputs": [],
   "source": [
    "Q1. Which two operator overloading methods can you use in your classes to support iteration?"
   ]
  },
  {
   "cell_type": "code",
   "execution_count": null,
   "id": "753839b1",
   "metadata": {},
   "outputs": [],
   "source": [
    "iter and next are the operator overloading methods in python that support iteration and are collectively called iterator protocol.\n",
    "iter returns the iterator object and is called at the start of loop in our respective class. next is called at each loop increment, \n",
    "it returns the incremented value. Also Stopiteration is raised when there is no value to return."
   ]
  },
  {
   "cell_type": "code",
   "execution_count": null,
   "id": "22d6faa7",
   "metadata": {},
   "outputs": [],
   "source": [
    "Q2. In what contexts do the two operator overloading methods manage printing?"
   ]
  },
  {
   "cell_type": "code",
   "execution_count": null,
   "id": "2f2596bb",
   "metadata": {},
   "outputs": [],
   "source": [
    "\"_ str __ \" and \"__ repr __\" are two operator overloading methods that manage printing."
   ]
  },
  {
   "cell_type": "code",
   "execution_count": null,
   "id": "25df9b26",
   "metadata": {},
   "outputs": [],
   "source": [
    "Q3. In a class, how do you intercept slice operations?"
   ]
  },
  {
   "cell_type": "code",
   "execution_count": null,
   "id": "00eb95a3",
   "metadata": {},
   "outputs": [],
   "source": [
    "slice is a constructor in Python that creates slice object to represent set of indices that the range(start, stop, step) specifies.\n",
    "__ getitem __ method can be implement in a class, and the behavior of slicing can be defined inside it."
   ]
  },
  {
   "cell_type": "code",
   "execution_count": null,
   "id": "52808731",
   "metadata": {},
   "outputs": [],
   "source": [
    "Q4. In a class, how do you capture in-place addition?"
   ]
  },
  {
   "cell_type": "code",
   "execution_count": null,
   "id": "bc0b6f71",
   "metadata": {},
   "outputs": [],
   "source": [
    "\"a+=b\" is inplace addition operation. In this in-place addition \"a\" itself will store the value of addition. \n",
    "In a class \"__iadd__\" method is used for this in-place operation"
   ]
  },
  {
   "cell_type": "code",
   "execution_count": null,
   "id": "d812d303",
   "metadata": {},
   "outputs": [],
   "source": [
    "Q5. When is it appropriate to use operator overloading?"
   ]
  },
  {
   "cell_type": "code",
   "execution_count": null,
   "id": "34312a94",
   "metadata": {},
   "outputs": [],
   "source": [
    " Operator Overloading means giving extended meaning beyond their predefined operational meaning. \n",
    "For example operator + is used to add two integers as well as join two strings and merge two lists. \n",
    "It is achievable because '+' operator is overloaded by int class and str class."
   ]
  }
 ],
 "metadata": {
  "kernelspec": {
   "display_name": "Python 3 (ipykernel)",
   "language": "python",
   "name": "python3"
  },
  "language_info": {
   "codemirror_mode": {
    "name": "ipython",
    "version": 3
   },
   "file_extension": ".py",
   "mimetype": "text/x-python",
   "name": "python",
   "nbconvert_exporter": "python",
   "pygments_lexer": "ipython3",
   "version": "3.11.5"
  }
 },
 "nbformat": 4,
 "nbformat_minor": 5
}
