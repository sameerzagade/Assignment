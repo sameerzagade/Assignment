{
 "cells": [
  {
   "cell_type": "markdown",
   "id": "43dc1250",
   "metadata": {},
   "source": [
    "1. Write a Python program to convert kilometers to miles?"
   ]
  },
  {
   "cell_type": "code",
   "execution_count": 9,
   "id": "bd3886c3",
   "metadata": {},
   "outputs": [
    {
     "name": "stdout",
     "output_type": "stream",
     "text": [
      "Enter Kilometer: 15.45\n",
      "15.45 km is 9.578999999999999 miles\n"
     ]
    }
   ],
   "source": [
    "km = float(input(\"Enter Kilometer: \", ))\n",
    "miles = 0.62*km\n",
    "\n",
    "print(km,\"km is\", miles, \"miles\")"
   ]
  },
  {
   "cell_type": "markdown",
   "id": "71e3fc47",
   "metadata": {},
   "source": [
    "Write a Python program to convert Celsius to Fahrenheit?"
   ]
  },
  {
   "cell_type": "code",
   "execution_count": 12,
   "id": "77ae8852",
   "metadata": {},
   "outputs": [
    {
     "name": "stdout",
     "output_type": "stream",
     "text": [
      "Enter temprature in celsius: 36\n",
      "36.0 degree celsius is 96.8 fahrenheit\n"
     ]
    }
   ],
   "source": [
    "celsius = float(input(\"Enter temprature in celsius: \", ))\n",
    "fahrenheit = (celsius*9/5)+32\n",
    "\n",
    "print(celsius,\"degree celsius is\", fahrenheit, \"fahrenheit\")"
   ]
  },
  {
   "cell_type": "markdown",
   "id": "958dc22c",
   "metadata": {},
   "source": [
    "Write a Python program to display calendar?"
   ]
  },
  {
   "cell_type": "code",
   "execution_count": 15,
   "id": "d1570d80",
   "metadata": {},
   "outputs": [
    {
     "name": "stdout",
     "output_type": "stream",
     "text": [
      "Enter Year: 2022\n",
      "Enter Month:7\n",
      "     July 2022\n",
      "Mo Tu We Th Fr Sa Su\n",
      "             1  2  3\n",
      " 4  5  6  7  8  9 10\n",
      "11 12 13 14 15 16 17\n",
      "18 19 20 21 22 23 24\n",
      "25 26 27 28 29 30 31\n",
      "\n"
     ]
    }
   ],
   "source": [
    "import calendar\n",
    "\n",
    "yy = int(input(\"Enter Year: \", ))\n",
    "mm = int(input(\"Enter Month:\", ))\n",
    "\n",
    "print(calendar.month(yy, mm))"
   ]
  },
  {
   "cell_type": "markdown",
   "id": "7b008e02",
   "metadata": {},
   "source": [
    "Write a Python program to solve quadratic equation?"
   ]
  },
  {
   "cell_type": "code",
   "execution_count": 42,
   "id": "a0351bb5",
   "metadata": {},
   "outputs": [
    {
     "name": "stdout",
     "output_type": "stream",
     "text": [
      "Enter a(a!=0): 10\n",
      "Enter b: 5\n",
      "Enter c: 6\n",
      "Result for equation,{a}x**2 + [b]x +{c} = 0, are:\n",
      "The solutions are (-0.25-0.733143914930759j) and (-0.25+0.733143914930759j)\n"
     ]
    }
   ],
   "source": [
    "import cmath\n",
    "\n",
    "a= int(input(\"Enter a(a!=0): \"))\n",
    "b= int(input(\"Enter b: \"))\n",
    "c= int(input(\"Enter c: \"))\n",
    "\n",
    "d = (b**2) - (4*a*c)\n",
    "\n",
    "sol1 = (-b-cmath.sqrt(d))/(2*a)\n",
    "sol2 = (-b+cmath.sqrt(d))/(2*a)\n",
    "\n",
    "print(\"Result for equation,{a}x**2 + [b]x +{c} = 0, are:\")\n",
    "\n",
    "print(\"The solutions are {} and {}\".format(sol1 , sol2))"
   ]
  },
  {
   "cell_type": "markdown",
   "id": "b04acaba",
   "metadata": {},
   "source": [
    "Write a Python program to swap two variables without temp variable?"
   ]
  },
  {
   "cell_type": "code",
   "execution_count": 41,
   "id": "0c489e62",
   "metadata": {},
   "outputs": [
    {
     "name": "stdout",
     "output_type": "stream",
     "text": [
      "Before swapping x= 1 and y= 2\n",
      "\n",
      "\n",
      "After swapping x= 2 and y= 1\n"
     ]
    }
   ],
   "source": [
    "x = 1\n",
    "y = 2\n",
    "print(\"Before swapping\", \"x=\",x,\"and\",\"y=\",y)\n",
    "x = x+y\n",
    "y = x-y\n",
    "x = x-y\n",
    "print(\"\\n\")\n",
    "print(\"After swapping\", \"x=\",x,\"and\",\"y=\",y)"
   ]
  },
  {
   "cell_type": "code",
   "execution_count": null,
   "id": "d5f313df",
   "metadata": {},
   "outputs": [],
   "source": []
  }
 ],
 "metadata": {
  "kernelspec": {
   "display_name": "Python 3 (ipykernel)",
   "language": "python",
   "name": "python3"
  },
  "language_info": {
   "codemirror_mode": {
    "name": "ipython",
    "version": 3
   },
   "file_extension": ".py",
   "mimetype": "text/x-python",
   "name": "python",
   "nbconvert_exporter": "python",
   "pygments_lexer": "ipython3",
   "version": "3.10.5"
  }
 },
 "nbformat": 4,
 "nbformat_minor": 5
}
