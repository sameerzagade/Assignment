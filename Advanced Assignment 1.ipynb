{
 "cells": [
  {
   "cell_type": "code",
   "execution_count": null,
   "id": "40a2cc9e",
   "metadata": {},
   "outputs": [],
   "source": [
    "Q1. What is the purpose of Python's OOP?"
   ]
  },
  {
   "cell_type": "code",
   "execution_count": null,
   "id": "15375383",
   "metadata": {},
   "outputs": [],
   "source": [
    "Object-Oriented Programming (OOP) is a fundamental concept in Python that empowers developers to build modular, maintainable, and scalable applications. \n",
    "Here are the key purposes of Python’s OOP:\n",
    "\n",
    "Modularity: OOP allows developers to break down complex problems into smaller, manageable parts (or objects). Each object is an instance of a class, which is like a blueprint.\n",
    "Reusability: Classes can be defined once and reused many times, which prevents code repetition.\n",
    "Scalability: OOP makes it easier to manage larger programs3. As new objects can be easily created from a class, it allows the program to scale efficiently.\n",
    "Real-world modeling: OOP provides a means of structuring programs so that properties and behaviors are bundled into individual objects. \n",
    "    This makes it easier to implement real-world entities like inheritance, polymorphisms, encapsulation, etc., in programming.\n",
    "\n",
    "    "
   ]
  },
  {
   "cell_type": "code",
   "execution_count": null,
   "id": "7b26052a",
   "metadata": {},
   "outputs": [],
   "source": [
    "Q2. Where does an inheritance search look for an attribute?"
   ]
  },
  {
   "cell_type": "code",
   "execution_count": null,
   "id": "36fd198c",
   "metadata": {},
   "outputs": [],
   "source": [
    "In Python’s Object-Oriented Programming (OOP), when you access an attribute of an object, the search for that attribute takes place in the following order:\n",
    "\n",
    "Instance Attributes: First, Python checks if the attribute exists in the instance (object) itself.\n",
    "Class Attributes: If the attribute is not found in the instance, Python then looks in the class to which the instance belongs.\n",
    "Parent Class(es) Attributes: If the attribute is still not found, Python continues the search in the parent class (or classes in case of multiple inheritance) of the class. \n",
    "Built-in Classes: If the attribute is not found in any of the above, Python finally checks in the built-in classes.\n",
    "This process is known as the attribute lookup order or Method Resolution Order (MRO). If the attribute is not found in any of these places, Python raises an AttributeError"
   ]
  },
  {
   "cell_type": "code",
   "execution_count": null,
   "id": "e930f1a3",
   "metadata": {},
   "outputs": [],
   "source": [
    "Q3. How do you distinguish between a class object and an instance object?"
   ]
  },
  {
   "cell_type": "code",
   "execution_count": null,
   "id": "b3ed5572",
   "metadata": {},
   "outputs": [],
   "source": [
    "In Python, both a class and an instance are objects, but they serve different purposes and have different characteristics:\n",
    "\n",
    "Class Object: A class is a blueprint or prototype from which instances are created. It defines a set of attributes that will characterize any object that is instantiated from this class. You can think of a class as a template for creating objects. \n",
    "\n",
    "Instance Object: An instance, on the other hand, is a single object that is built from a class and contains real data. \n",
    "An instance represents a specific example of a class. "
   ]
  },
  {
   "cell_type": "code",
   "execution_count": null,
   "id": "143d5b5d",
   "metadata": {},
   "outputs": [],
   "source": [
    "Q4. What makes the first argument in a class’s method function special?"
   ]
  },
  {
   "cell_type": "code",
   "execution_count": null,
   "id": "0db4fb7f",
   "metadata": {},
   "outputs": [],
   "source": [
    "The first argument in a class method function is special because it is a reference to the instance of the class on which the method is being called. \n",
    "This reference is usually called self.When you call a method on a class, Python automatically passes the instance of the class as the first argument to the method.\n",
    "This allows the method to access the instance's attributes and methods."
   ]
  },
  {
   "cell_type": "code",
   "execution_count": null,
   "id": "477fa56d",
   "metadata": {},
   "outputs": [],
   "source": [
    "Q5. What is the purpose of the __init__ method?"
   ]
  },
  {
   "cell_type": "code",
   "execution_count": null,
   "id": "5ec486d5",
   "metadata": {},
   "outputs": [],
   "source": [
    "The __init__ method in Python is a special method that is automatically called when an object is created from a class. \n",
    "It is used to initialize the attributes of an instance"
   ]
  },
  {
   "cell_type": "code",
   "execution_count": null,
   "id": "e44f01b6",
   "metadata": {},
   "outputs": [],
   "source": [
    "Q5. What is the purpose of the __init__ method?"
   ]
  },
  {
   "cell_type": "code",
   "execution_count": null,
   "id": "f089d2ee",
   "metadata": {},
   "outputs": [],
   "source": [
    "The __init__ method in Python initializes a newly created object and is called automatically when a class is used to create a new object. \n",
    "The method takes the object as its first argument, followed by additional arguments. The first parameter of the method is the argument list (*args), \n",
    "which can be used to pass construction arguments to the class when an object is created. If there are no construction arguments, None can be passed to the first parameter."
   ]
  },
  {
   "cell_type": "code",
   "execution_count": null,
   "id": "e435fd6d",
   "metadata": {},
   "outputs": [],
   "source": [
    "Q6. What is the process for creating a class instance?"
   ]
  },
  {
   "cell_type": "code",
   "execution_count": null,
   "id": "6285efcf",
   "metadata": {},
   "outputs": [],
   "source": [
    "Creating a class instance in Python involves two main steps:\n",
    "\n",
    "Creation: A new instance of the class is created.\n",
    "Initialization: The new instance is initialized with suitable instance attribute values. This is typically done in the __init__ method of the class."
   ]
  },
  {
   "cell_type": "code",
   "execution_count": null,
   "id": "7478d363",
   "metadata": {},
   "outputs": [],
   "source": [
    "Q7. What is the process for creating a class?"
   ]
  },
  {
   "cell_type": "code",
   "execution_count": null,
   "id": "ef480a22",
   "metadata": {},
   "outputs": [],
   "source": [
    "The process for creating a class is as follows:\n",
    "Define the class. This includes giving the class a name, defining its attributes, and defining its methods.\n",
    "Create an instance of the class. This is done using the new keyword.\n",
    "Initialize the instance of the class. This is done by calling the constructor of the class.\n",
    "Use the instance of the class. This is done by calling the methods of the class."
   ]
  },
  {
   "cell_type": "code",
   "execution_count": null,
   "id": "1ad44c01",
   "metadata": {},
   "outputs": [],
   "source": [
    "Q8. How would you define the superclasses of a class?"
   ]
  },
  {
   "cell_type": "code",
   "execution_count": null,
   "id": "9876f550",
   "metadata": {},
   "outputs": [],
   "source": [
    "In Python, a superclass, also known as a base class or parent class, is a class that is inherited by another class. Here are some key points about superclasses:\n",
    "\n",
    "Common Attributes and Methods: A superclass contains attributes and methods that are common to a set of related classes.\n",
    "Inheritance: A subclass, also known as a derived class or child class, inherits from the superclass and specializes or extends its capabilities.\n",
    "Accessing Superclass Methods: Python provides the super() function to refer to the superclass. It allows you to call methods defined in the superclass from the subclass, \n",
    "    enabling you to extend and customize the functionality inherited from the parent class."
   ]
  }
 ],
 "metadata": {
  "kernelspec": {
   "display_name": "Python 3 (ipykernel)",
   "language": "python",
   "name": "python3"
  },
  "language_info": {
   "codemirror_mode": {
    "name": "ipython",
    "version": 3
   },
   "file_extension": ".py",
   "mimetype": "text/x-python",
   "name": "python",
   "nbconvert_exporter": "python",
   "pygments_lexer": "ipython3",
   "version": "3.11.5"
  }
 },
 "nbformat": 4,
 "nbformat_minor": 5
}
