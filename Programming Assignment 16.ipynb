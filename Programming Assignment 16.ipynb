{
 "cells": [
  {
   "cell_type": "code",
   "execution_count": null,
   "id": "0cd0f244",
   "metadata": {},
   "outputs": [],
   "source": [
    "Question1. Write a function that stutters a word as if someone is struggling to read it. The first two letters are repeated twice with an ellipsis ... and space after each, and then the word is pronounced with a question mark ?.\n",
    "Examples\n",
    "stutter(\"incredible\") ➞ \"in... in... incredible?\"\n",
    "\n",
    "stutter(\"enthusiastic\") ➞ \"en... en... enthusiastic?\"\n",
    "\n",
    "stutter(\"outstanding\") ➞ \"ou... ou... outstanding?\"\n",
    "\n",
    "Hint :- Assume all input is in lower case and at least two characters long.\n"
   ]
  },
  {
   "cell_type": "code",
   "execution_count": 11,
   "id": "b38a7b2b",
   "metadata": {},
   "outputs": [
    {
     "name": "stdout",
     "output_type": "stream",
     "text": [
      "Enter a word: powerful\n",
      "po... po... powerful?\n"
     ]
    }
   ],
   "source": [
    "def stutter(stuttered_word):\n",
    "    if len(stuttered_word) < 3:\n",
    "        return \"Word must have at least two characters for me to stutter\"\n",
    "    else:\n",
    "        stuttered_word = f\"{stuttered_word[:2]}... {stuttered_word[:2]}... {stuttered_word}?\"\n",
    "        return stuttered_word\n",
    "\n",
    "def main():\n",
    "    user_input = input(\"Enter a word: \")\n",
    "    result = stutter(user_input)\n",
    "    print(result)\n",
    "    \n",
    "if __name__ == \"__main__\":\n",
    "    main()\n"
   ]
  },
  {
   "cell_type": "code",
   "execution_count": null,
   "id": "b39a3d4e",
   "metadata": {},
   "outputs": [],
   "source": [
    "Question 2.Create a function that takes an angle in radians and returns the corresponding angle in degrees rounded to one decimal place.\n",
    "Examples\n",
    "radians_to_degrees(1) ➞ 57.3\n",
    "\n",
    "radians_to_degrees(20) ➞ 1145.9\n",
    "\n",
    "radians_to_degrees(50) ➞ 2864.8\n"
   ]
  },
  {
   "cell_type": "code",
   "execution_count": 14,
   "id": "83bf8292",
   "metadata": {},
   "outputs": [
    {
     "name": "stdout",
     "output_type": "stream",
     "text": [
      "Enter an angle: 1\n",
      "57.3\n"
     ]
    }
   ],
   "source": [
    "def radians_to_degrees(radians):\n",
    "    import math\n",
    "    degrees = math.degrees(radians)\n",
    "    return round(degrees, 1)\n",
    "\n",
    "def main():\n",
    "    user_input = int(input(\"Enter an angle : \"))\n",
    "    result = radians_to_degrees(user_input)\n",
    "    print(result)\n",
    "    \n",
    "if __name__ == \"__main__\":\n",
    "    main()\n",
    "    "
   ]
  },
  {
   "cell_type": "code",
   "execution_count": null,
   "id": "4b577f47",
   "metadata": {},
   "outputs": [],
   "source": [
    "Question 3. In this challenge, establish if a given integer num is a Curzon number. If 1 plus 2 elevated to num is exactly divisible by 1 plus 2 multiplied by num, then num is a Curzon number.\n",
    "Given a non-negative integer num, implement a function that returns True if num is a Curzon number, or False otherwise.\n",
    "Examples\n",
    "is_curzon(5) ➞ True\n",
    "# 2 ** 5 + 1 = 33\n",
    "# 2 * 5 + 1 = 11\n",
    "# 33 is a multiple of 11\n",
    "\n",
    "is_curzon(10) ➞ False\n",
    "# 2 ** 10 + 1 = 1025\n",
    "# 2 * 10 + 1 = 21\n",
    "# 1025 is not a multiple of 21\n",
    "\n",
    "is_curzon(14) ➞ True\n",
    "# 2 ** 14 + 1 = 16385\n",
    "# 2 * 14 + 1 = 29\n",
    "# 16385 is a multiple of 29\n"
   ]
  },
  {
   "cell_type": "code",
   "execution_count": 6,
   "id": "d0dd434d",
   "metadata": {},
   "outputs": [
    {
     "name": "stdout",
     "output_type": "stream",
     "text": [
      "Enter a number : 9\n",
      "its Curzon number\n"
     ]
    }
   ],
   "source": [
    "def curzon(A):\n",
    "    result1= 2**A+1\n",
    "    result2= 2*A+1\n",
    "    if result1 % result2 == 0:\n",
    "        return (\"its Curzon number\")\n",
    "    else:\n",
    "        return (\"its not Curzon number\")\n",
    "\n",
    "def main():\n",
    "    user_input1 = int(input(\"Enter a number : \"))\n",
    "    result = curzon(user_input1)\n",
    "    print(result)\n",
    "    \n",
    "if __name__ == \"__main__\":\n",
    "    main()\n",
    "    "
   ]
  },
  {
   "cell_type": "code",
   "execution_count": null,
   "id": "7c4a4326",
   "metadata": {},
   "outputs": [],
   "source": [
    "Question 4. Given the side length x find the area of a hexagon.\n",
    "\n",
    "A = 3 square root of 3/ 2 * S square \n",
    "\n",
    "Examples\n",
    "area_of_hexagon(1) ➞ 2.6\n",
    "area_of_hexagon(2) ➞ 10.4\n",
    "area_of_hexagon(3) ➞ 23.4\n"
   ]
  },
  {
   "cell_type": "code",
   "execution_count": 10,
   "id": "43e473e8",
   "metadata": {},
   "outputs": [
    {
     "name": "stdout",
     "output_type": "stream",
     "text": [
      "Enter a number : 5\n",
      "Area of hexagon is 64.9519052838329\n"
     ]
    }
   ],
   "source": [
    "def Area_of_hexagon(side):\n",
    "    import math\n",
    "    areaofhexagon = (3 * math.sqrt(3) * (side ** 2)) / 2\n",
    "    return areaofhexagon\n",
    "\n",
    "def main():\n",
    "    side_of_hexagon = int(input(\"Enter a number : \"))\n",
    "    result = Area_of_hexagon(side_of_hexagon)\n",
    "    print(f\"Area of hexagon is {result}\")\n",
    "    \n",
    "if __name__ == \"__main__\":\n",
    "    main()\n",
    "    "
   ]
  },
  {
   "cell_type": "code",
   "execution_count": null,
   "id": "46578b7a",
   "metadata": {},
   "outputs": [],
   "source": [
    "Question 5. Create a function that returns a base-2 (binary) representation of a base-10 (decimal) string number. To convert is simple: ((2) means base-2 and (10) means base-10) 010101001(2) = 1 + 8 + 32 + 128.\n",
    "Going from right to left, the value of the most right bit is 1, now from that every bit to the left will be x2 the value, value of an 8 bit binary numbers are (256, 128, 64, 32, 16, 8, 4, 2, 1).\n",
    "Examples\n",
    "binary(1) ➞ \"1\"\n",
    "# 1*1 = 1\n",
    "\n",
    "binary(5) ➞ \"101\"\n",
    "# 1*1 + 1*4 = 5\n",
    "\n",
    "binary(10) ➞ \"1010\"\n",
    "# 1*2 + 1*8 = 10"
   ]
  },
  {
   "cell_type": "code",
   "execution_count": 14,
   "id": "eafa17c5",
   "metadata": {},
   "outputs": [
    {
     "name": "stdout",
     "output_type": "stream",
     "text": [
      "Enter a number : 5\n",
      "Binary number of 5 is : 101\n"
     ]
    }
   ],
   "source": [
    "def binary(decimal):\n",
    "    binary_result = \"\"  \n",
    "    while decimal > 0:\n",
    "        remainder = decimal % 2\n",
    "        binary_result = str(remainder) + binary_result\n",
    "        decimal //= 2\n",
    "    return binary_result\n",
    "\n",
    "def main():\n",
    "    decimal_num = int(input(\"Enter a number : \"))\n",
    "    result = binary(decimal_num)\n",
    "    print(f\"Binary number of {decimal_num} is : {result}\")\n",
    "    \n",
    "if __name__ == \"__main__\":\n",
    "    main()\n",
    "    "
   ]
  },
  {
   "cell_type": "code",
   "execution_count": null,
   "id": "6886b4ee",
   "metadata": {},
   "outputs": [],
   "source": []
  }
 ],
 "metadata": {
  "kernelspec": {
   "display_name": "Python 3 (ipykernel)",
   "language": "python",
   "name": "python3"
  },
  "language_info": {
   "codemirror_mode": {
    "name": "ipython",
    "version": 3
   },
   "file_extension": ".py",
   "mimetype": "text/x-python",
   "name": "python",
   "nbconvert_exporter": "python",
   "pygments_lexer": "ipython3",
   "version": "3.11.5"
  }
 },
 "nbformat": 4,
 "nbformat_minor": 5
}
