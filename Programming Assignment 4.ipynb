{
 "cells": [
  {
   "cell_type": "markdown",
   "id": "345445b3",
   "metadata": {},
   "source": [
    "1. Write a Python Program to Find the Factorial of a Number?"
   ]
  },
  {
   "cell_type": "code",
   "execution_count": 1,
   "id": "2c9570e1",
   "metadata": {},
   "outputs": [
    {
     "name": "stdout",
     "output_type": "stream",
     "text": [
      "Enter a number10\n",
      "3628800\n"
     ]
    }
   ],
   "source": [
    "a = int(input(\"Enter a number\", ))\n",
    "b=1\n",
    "for i in range(1,a+1):\n",
    "    b=b*i\n",
    "print(b)"
   ]
  },
  {
   "cell_type": "code",
   "execution_count": 2,
   "id": "65dee4c3",
   "metadata": {},
   "outputs": [
    {
     "name": "stdout",
     "output_type": "stream",
     "text": [
      "Enter a number to know its factorial10\n"
     ]
    },
    {
     "data": {
      "text/plain": [
       "3628800"
      ]
     },
     "execution_count": 2,
     "metadata": {},
     "output_type": "execute_result"
    }
   ],
   "source": [
    "import math\n",
    "math.factorial(int(input(\"Enter a number to know its factorial\")))"
   ]
  },
  {
   "cell_type": "markdown",
   "id": "87d8c156",
   "metadata": {},
   "source": [
    "2. Write a Python Program to Display the multiplication Table?"
   ]
  },
  {
   "cell_type": "code",
   "execution_count": 3,
   "id": "3a574014",
   "metadata": {},
   "outputs": [
    {
     "name": "stdout",
     "output_type": "stream",
     "text": [
      "Enter a number10\n",
      "10 x 1 = 10\n",
      "10 x 2 = 20\n",
      "10 x 3 = 30\n",
      "10 x 4 = 40\n",
      "10 x 5 = 50\n",
      "10 x 6 = 60\n",
      "10 x 7 = 70\n",
      "10 x 8 = 80\n",
      "10 x 9 = 90\n",
      "10 x 10 = 100\n"
     ]
    }
   ],
   "source": [
    "a = int(input(\"Enter a number\", ))\n",
    "\n",
    "for i in range(1,11):\n",
    "    b=a*i\n",
    "    print(a,\"x\",i,\"=\",b)"
   ]
  },
  {
   "cell_type": "markdown",
   "id": "f8185b74",
   "metadata": {},
   "source": [
    "3. Write a Python Program to Print the Fibonacci sequence?"
   ]
  },
  {
   "cell_type": "code",
   "execution_count": 4,
   "id": "92f4b7fa",
   "metadata": {},
   "outputs": [
    {
     "name": "stdout",
     "output_type": "stream",
     "text": [
      "Create Fibonacci series until: 10\n",
      "1\n",
      "2\n",
      "3\n",
      "5\n",
      "8\n",
      "end\n"
     ]
    }
   ],
   "source": [
    "n=int((input(\"Create Fibonacci series until: \")))\n",
    "a=0\n",
    "b=1\n",
    "c=1\n",
    "while c < (n-a):\n",
    "    c=a+b\n",
    "    a=b\n",
    "    b=c\n",
    "    print(c)\n",
    "else:\n",
    "    print(\"end\")\n",
    "    \n",
    "        "
   ]
  },
  {
   "cell_type": "markdown",
   "id": "7b495938",
   "metadata": {},
   "source": [
    "4. Write a Python Program to Check Armstrong Number?"
   ]
  },
  {
   "cell_type": "code",
   "execution_count": 5,
   "id": "11a3c57e",
   "metadata": {},
   "outputs": [
    {
     "name": "stdout",
     "output_type": "stream",
     "text": [
      "Enter number to check if its Armstrong number:123\n",
      "No it's not Armstrong number\n"
     ]
    }
   ],
   "source": [
    "n=((input(\"Enter number to check if its Armstrong number:\")))\n",
    "a=0\n",
    "b=0\n",
    "for i in n:\n",
    "    a=int(i)**3\n",
    "    b=a+b\n",
    "if b==(int(n)):\n",
    "    print(\"Yes it's Armstrong number\")\n",
    "else:\n",
    "    print(\"No it's not Armstrong number\")"
   ]
  },
  {
   "cell_type": "markdown",
   "id": "d337559c",
   "metadata": {},
   "source": [
    "5. Write a Python Program to Find Armstrong Number in an Interval?"
   ]
  },
  {
   "cell_type": "code",
   "execution_count": 1,
   "id": "10f9d821",
   "metadata": {},
   "outputs": [
    {
     "name": "stdout",
     "output_type": "stream",
     "text": [
      "Enter starting number of the range to find Armstrong number:300\n",
      "Enter last number of the raneg to check if its Armstrong number:500\n",
      "370 is Armstrong number\n",
      "371 is Armstrong number\n",
      "407 is Armstrong number\n"
     ]
    }
   ],
   "source": [
    "n1=int((input(\"Enter starting number of the range to find Armstrong number:\")))\n",
    "n2=int((input(\"Enter last number of the raneg to check if its Armstrong number:\")))\n",
    "a=0\n",
    "b=0\n",
    "for j in range(n1,n2+1):\n",
    "    for i in str(j):\n",
    "        a=int(i)**3\n",
    "        b=a+b\n",
    "    if b==(int(j)):\n",
    "        print(j,\"is Armstrong number\")\n",
    "        a=0\n",
    "        b=0\n",
    "    else:\n",
    "        a=0\n",
    "        b=0"
   ]
  },
  {
   "cell_type": "markdown",
   "id": "153c069d",
   "metadata": {},
   "source": [
    "6. Write a Python Program to Find the Sum of Natural Numbers?"
   ]
  },
  {
   "cell_type": "code",
   "execution_count": 7,
   "id": "24c4110a",
   "metadata": {},
   "outputs": [
    {
     "name": "stdout",
     "output_type": "stream",
     "text": [
      "Please enter number5\n",
      "Total: 15\n"
     ]
    }
   ],
   "source": [
    "a=((input(\"Please enter number\")))\n",
    "\n",
    "sum = 0 \n",
    "\n",
    "if \".\" in a:\n",
    "    print(\"Please enter natural number\")\n",
    "elif int(a)<0:\n",
    "    print(\"Please enter natural number\")\n",
    "else:\n",
    "    b=int(a)\n",
    "    while b > 0:\n",
    "        sum += b\n",
    "        b -= 1\n",
    "    print(\"Total:\", sum)"
   ]
  },
  {
   "cell_type": "code",
   "execution_count": null,
   "id": "8b85e726",
   "metadata": {},
   "outputs": [],
   "source": []
  }
 ],
 "metadata": {
  "kernelspec": {
   "display_name": "Python 3 (ipykernel)",
   "language": "python",
   "name": "python3"
  },
  "language_info": {
   "codemirror_mode": {
    "name": "ipython",
    "version": 3
   },
   "file_extension": ".py",
   "mimetype": "text/x-python",
   "name": "python",
   "nbconvert_exporter": "python",
   "pygments_lexer": "ipython3",
   "version": "3.10.5"
  }
 },
 "nbformat": 4,
 "nbformat_minor": 5
}
