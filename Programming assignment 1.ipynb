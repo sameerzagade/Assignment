{
 "cells": [
  {
   "cell_type": "markdown",
   "id": "45ec546b",
   "metadata": {},
   "source": [
    " 1.\tWrite a Python program to print \"Hello Python\""
   ]
  },
  {
   "cell_type": "code",
   "execution_count": 4,
   "id": "914311a2",
   "metadata": {},
   "outputs": [
    {
     "name": "stdout",
     "output_type": "stream",
     "text": [
      "Hello Python\n"
     ]
    }
   ],
   "source": [
    "print(\"Hello Python\")"
   ]
  },
  {
   "cell_type": "markdown",
   "id": "1ab252c0",
   "metadata": {},
   "source": [
    "2.\tWrite a Python program to do arithmetical operations addition and division.?"
   ]
  },
  {
   "cell_type": "code",
   "execution_count": 3,
   "id": "300edb12",
   "metadata": {},
   "outputs": [
    {
     "name": "stdout",
     "output_type": "stream",
     "text": [
      "provide a number: 10\n",
      "Provide another number:5\n",
      "addition of input : 15\n",
      "Divition of input : 2.0\n"
     ]
    }
   ],
   "source": [
    "a = int(input(\"provide a number: \", ))\n",
    "b = int(input(\"Provide another number:\", ))\n",
    "add = a + b\n",
    "division = a/b\n",
    "print(\"addition of input :\", add)\n",
    "print(\"Divition of input :\", division)"
   ]
  },
  {
   "cell_type": "markdown",
   "id": "8e85fb6c",
   "metadata": {},
   "source": [
    "3.\tWrite a Python program to find the area of a triangle?"
   ]
  },
  {
   "cell_type": "code",
   "execution_count": 1,
   "id": "3e2b93ce",
   "metadata": {},
   "outputs": [
    {
     "name": "stdout",
     "output_type": "stream",
     "text": [
      "provide a base of triangle: 14\n",
      "Provide height of triangle: 15\n",
      "Area of Triangle:  105.0\n"
     ]
    }
   ],
   "source": [
    "base = int(input(\"provide a base of triangle: \", ))\n",
    "height = int(input(\"Provide height of triangle: \", ))\n",
    "area = (base*height)/2\n",
    "print(\"Area of Triangle: \", area)"
   ]
  },
  {
   "cell_type": "markdown",
   "id": "9e44c6e8",
   "metadata": {},
   "source": [
    "4.\tWrite a Python program to swap two variables?"
   ]
  },
  {
   "cell_type": "code",
   "execution_count": 18,
   "id": "28ab7471",
   "metadata": {},
   "outputs": [
    {
     "name": "stdout",
     "output_type": "stream",
     "text": [
      "Variable 1:  20\n",
      "Variable 2:  10\n"
     ]
    }
   ],
   "source": [
    "Variable_1 = 10\n",
    "Variable_2 = 20\n",
    "\n",
    "variable_1, variable_2 = Variable_2 , Variable_1\n",
    "\n",
    "print(\"Variable 1: \", variable_1)\n",
    "print(\"Variable 2: \", variable_2)"
   ]
  },
  {
   "cell_type": "markdown",
   "id": "16e6dca5",
   "metadata": {},
   "source": [
    "5.\tWrite a Python program to generate a random number?"
   ]
  },
  {
   "cell_type": "code",
   "execution_count": 16,
   "id": "5955263e",
   "metadata": {},
   "outputs": [
    {
     "name": "stdout",
     "output_type": "stream",
     "text": [
      "70\n"
     ]
    }
   ],
   "source": [
    "import random\n",
    "print(random.randint(0,100))"
   ]
  },
  {
   "cell_type": "code",
   "execution_count": null,
   "id": "65279c33",
   "metadata": {},
   "outputs": [],
   "source": []
  },
  {
   "cell_type": "code",
   "execution_count": null,
   "id": "2ba697d5",
   "metadata": {},
   "outputs": [],
   "source": []
  }
 ],
 "metadata": {
  "kernelspec": {
   "display_name": "Python 3 (ipykernel)",
   "language": "python",
   "name": "python3"
  },
  "language_info": {
   "codemirror_mode": {
    "name": "ipython",
    "version": 3
   },
   "file_extension": ".py",
   "mimetype": "text/x-python",
   "name": "python",
   "nbconvert_exporter": "python",
   "pygments_lexer": "ipython3",
   "version": "3.10.5"
  }
 },
 "nbformat": 4,
 "nbformat_minor": 5
}
