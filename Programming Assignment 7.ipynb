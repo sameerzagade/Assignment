{
 "cells": [
  {
   "cell_type": "code",
   "execution_count": null,
   "id": "3d03ea4c",
   "metadata": {},
   "outputs": [],
   "source": [
    "#1.\tWrite a Python Program to find sum of array?"
   ]
  },
  {
   "cell_type": "code",
   "execution_count": 3,
   "id": "427802d4",
   "metadata": {},
   "outputs": [
    {
     "name": "stdout",
     "output_type": "stream",
     "text": [
      "Total of the array is 171\n"
     ]
    }
   ],
   "source": [
    "Array = [1,10,20,3,78,9,50]\n",
    "sums = 0\n",
    "for i in Array:\n",
    "    i=int(i)\n",
    "    sums += i\n",
    "print(f\"Total of the array is {sums}\")"
   ]
  },
  {
   "cell_type": "code",
   "execution_count": null,
   "id": "f34e6610",
   "metadata": {},
   "outputs": [],
   "source": [
    "#2.Write a Python Program to find largest element in an array?"
   ]
  },
  {
   "cell_type": "code",
   "execution_count": 4,
   "id": "4e1d872d",
   "metadata": {},
   "outputs": [
    {
     "name": "stdout",
     "output_type": "stream",
     "text": [
      "78 is the largest element in the array\n"
     ]
    }
   ],
   "source": [
    "Array = [1,10,20,3,78,9,50]\n",
    "p = 0 \n",
    "for i in Array:\n",
    "    if int(i) > int(p):\n",
    "        p=i\n",
    "print(f\"{p} is the largest element in the array\" )"
   ]
  },
  {
   "cell_type": "code",
   "execution_count": null,
   "id": "74b464cb",
   "metadata": {},
   "outputs": [],
   "source": [
    "#3.Write a Python Program for array rotation?"
   ]
  },
  {
   "cell_type": "code",
   "execution_count": 5,
   "id": "6eb66569",
   "metadata": {},
   "outputs": [
    {
     "name": "stdout",
     "output_type": "stream",
     "text": [
      "Rotated List is [20, 3, 78, 9, 50, 1, 10]\n"
     ]
    }
   ],
   "source": [
    "def rotateArray(a,d):\n",
    "    '''This function rotates the array based on index parameter'''\n",
    "    n=len(a)\n",
    "    a[:]=a[d:n]+a[0:d]\n",
    "    return a\n",
    "\n",
    "Array = [1,10,20,3,78,9,50]\n",
    "\n",
    "print(f\"Rotated List is\", rotateArray(Array,2)) "
   ]
  },
  {
   "cell_type": "code",
   "execution_count": null,
   "id": "8ddc5588",
   "metadata": {},
   "outputs": [],
   "source": [
    "#4.Write a Python Program to Split the array and add the first part to the end?"
   ]
  },
  {
   "cell_type": "code",
   "execution_count": 6,
   "id": "64c87484",
   "metadata": {},
   "outputs": [
    {
     "name": "stdout",
     "output_type": "stream",
     "text": [
      "[3, 78, 9, 50, 1, 10, 20]\n"
     ]
    }
   ],
   "source": [
    "Array = [1,10,20,3,78,9,50]\n",
    "l = int(len(Array))\n",
    "n = int(len(Array)/2)\n",
    "a = Array[:n]\n",
    "b = Array[n:l]\n",
    "print(b + a)"
   ]
  },
  {
   "cell_type": "code",
   "execution_count": null,
   "id": "6f496f31",
   "metadata": {},
   "outputs": [],
   "source": [
    "#5.\tWrite a Python Program to check if given array is Monotonic?"
   ]
  },
  {
   "cell_type": "code",
   "execution_count": 7,
   "id": "21042001",
   "metadata": {},
   "outputs": [
    {
     "name": "stdout",
     "output_type": "stream",
     "text": [
      "True\n"
     ]
    }
   ],
   "source": [
    "def monotonic(arr):\n",
    "    x, y = [], []\n",
    "    x.extend(arr)\n",
    "    y.extend(arr)\n",
    "    x.sort()\n",
    "    y.sort(reverse=True)\n",
    "    if(x == arr or y == arr):\n",
    "        return True\n",
    "    return False\n",
    "\n",
    "array4=[1, 12, 13, 127, 178]\n",
    "print(monotonic(array4))"
   ]
  },
  {
   "cell_type": "code",
   "execution_count": null,
   "id": "3917b778",
   "metadata": {},
   "outputs": [],
   "source": []
  }
 ],
 "metadata": {
  "kernelspec": {
   "display_name": "Python 3 (ipykernel)",
   "language": "python",
   "name": "python3"
  },
  "language_info": {
   "codemirror_mode": {
    "name": "ipython",
    "version": 3
   },
   "file_extension": ".py",
   "mimetype": "text/x-python",
   "name": "python",
   "nbconvert_exporter": "python",
   "pygments_lexer": "ipython3",
   "version": "3.10.5"
  }
 },
 "nbformat": 4,
 "nbformat_minor": 5
}
