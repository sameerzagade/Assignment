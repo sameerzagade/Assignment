{
 "cells": [
  {
   "cell_type": "code",
   "execution_count": null,
   "id": "1c42d8d4",
   "metadata": {},
   "outputs": [],
   "source": [
    "1.\tWrite a Python program to find words which are greater than given length k?"
   ]
  },
  {
   "cell_type": "code",
   "execution_count": null,
   "id": "049b9064",
   "metadata": {},
   "outputs": [],
   "source": [
    "def word_greater_than_k(word_lists,K):\n",
    "    result=[]\n",
    "    for word in word_lists:\n",
    "        if len(word)>K:\n",
    "            result.append(word)\n",
    "        else:\n",
    "            pass\n",
    "    return result\n",
    "\n",
    "def main():\n",
    "    word_list=['apple', 'banana', 'cherry', 'date', 'elderberry', 'fig', 'grape']\n",
    "    K=int(input(\"Please enter length of word to get words from list which has length more than you input : \"))\n",
    "    result=word_greater_than_k(word_list, K)\n",
    "    if len(result) != 0:\n",
    "        print(f\"List of words more than {K} length {result}\")\n",
    "    else:\n",
    "         print(f\"There is no word in the list which has length greater than {K}\")\n",
    "   \n",
    "if __name__ == \"__main__\":\n",
    "    main()"
   ]
  },
  {
   "cell_type": "code",
   "execution_count": null,
   "id": "35e94bf0",
   "metadata": {},
   "outputs": [],
   "source": [
    "2.\tWrite a Python program for removing i-th character from a string?"
   ]
  },
  {
   "cell_type": "code",
   "execution_count": null,
   "id": "6509d7c6",
   "metadata": {},
   "outputs": [],
   "source": [
    "def remove_ith_character(string, index_to_remove):\n",
    "    string=string.replace(string[index_to_remove], '')\n",
    "    return string\n",
    "\n",
    "def main():\n",
    "    string=(input(\"Please enter text: \"))\n",
    "    index_to_remove=int(input(\"Please enter number of the character you want to remove from string: \"))\n",
    "    if index_to_remove <= len(string):\n",
    "        result=remove_ith_character(string, index_to_remove-1)\n",
    "        print(f\"Text after removing character of the index you mentioned: {result}\")\n",
    "        \n",
    "    else:\n",
    "         print(f\"Index entered is greater than length of the text you entered\")\n",
    "   \n",
    "if __name__ == \"__main__\":\n",
    "    main()"
   ]
  },
  {
   "cell_type": "code",
   "execution_count": null,
   "id": "afb976f8",
   "metadata": {},
   "outputs": [],
   "source": [
    "3.\tWrite a Python program to split and join a string?"
   ]
  },
  {
   "cell_type": "code",
   "execution_count": null,
   "id": "aba2822c",
   "metadata": {},
   "outputs": [],
   "source": [
    "def split_join_character(string):\n",
    "    string1=string.split()\n",
    "    string2=\" \".join(string1)\n",
    "    return string1, string2\n",
    "\n",
    "def main():\n",
    "    string=(input(\"Please enter text: \"))\n",
    "    result_split, result_joined = split_join_character(string)\n",
    "    print(f\"Text after spliting: {result_split}\")\n",
    "    print(f\"Text after joining: {result_joined}\")\n",
    "   \n",
    "if __name__ == \"__main__\":\n",
    "    main()"
   ]
  },
  {
   "cell_type": "code",
   "execution_count": null,
   "id": "e78451be",
   "metadata": {},
   "outputs": [],
   "source": [
    "4.\tWrite a Python to check if a given string is binary string or not?"
   ]
  },
  {
   "cell_type": "code",
   "execution_count": null,
   "id": "1115a514",
   "metadata": {},
   "outputs": [],
   "source": [
    "def check_binary(string):\n",
    "    p = set(string)\n",
    "    s = {'0', '1'}\n",
    "    return s == p or p == {'0'} or p == {'1'}\n",
    "\n",
    "def main():\n",
    "    string=(input(\"Please enter string: \"))\n",
    "    result= check_binary(string)\n",
    "    if result == True:\n",
    "        print(f\"String is binary: {string}\")\n",
    "    else:\n",
    "        print(f\"String is not binary: {string}\")\n",
    "\n",
    "if __name__ == \"__main__\":\n",
    "    main()"
   ]
  },
  {
   "cell_type": "code",
   "execution_count": null,
   "id": "83a7621c",
   "metadata": {},
   "outputs": [],
   "source": [
    "5.\tWrite a Python program to find uncommon words from two Strings?"
   ]
  },
  {
   "cell_type": "code",
   "execution_count": null,
   "id": "a98acaa6",
   "metadata": {},
   "outputs": [],
   "source": [
    "def check_uncommon_words(string1, string2):\n",
    "    string1=string1.split()\n",
    "    string2=string2.split()\n",
    "    uncommon_elements = list(set(string1) ^ set(string2))\n",
    "    return uncommon_elements\n",
    "\n",
    "def main():\n",
    "    string1 = input(\"Please enter text:\")\n",
    "    string2 = input(\"Please enter text: \")\n",
    "    result= check_uncommon_words(string1,string2)\n",
    "    if len(result)!= 0:\n",
    "        print(f\"uncommon words from the strings: {result}\")\n",
    "    else:\n",
    "        print(f\"There is no uncommon world in the strings\")\n",
    "\n",
    "if __name__ == \"__main__\":\n",
    "    main()"
   ]
  },
  {
   "cell_type": "code",
   "execution_count": null,
   "id": "0bc80da2",
   "metadata": {},
   "outputs": [],
   "source": [
    "6.\tWrite a Python to find all duplicate characters in string?"
   ]
  },
  {
   "cell_type": "code",
   "execution_count": 17,
   "id": "f01ab851",
   "metadata": {},
   "outputs": [
    {
     "name": "stdout",
     "output_type": "stream",
     "text": [
      "Please enter text: Helloh\n",
      "Duplicate character: ['h', 'l']\n"
     ]
    }
   ],
   "source": [
    "def check_duplicate_words(string):\n",
    "    from collections import Counter\n",
    "    string=string.lower()\n",
    "    char_count = Counter(string)\n",
    "    Duplicate_words=[]\n",
    "    for char, count in char_count.items():\n",
    "        if count > 1:\n",
    "            Duplicate_words.append(char)\n",
    "    return Duplicate_words      \n",
    "            \n",
    "def main():\n",
    "    string=(input(\"Please enter text: \"))\n",
    "    result=check_duplicate_words(string)\n",
    "    if len(result)!= 0:\n",
    "        print(f\"Duplicate character: {result}\")\n",
    "    else:\n",
    "        print(f\"There is no common character in the strings\")      \n",
    "if __name__ == \"__main__\":\n",
    "    main()"
   ]
  },
  {
   "cell_type": "code",
   "execution_count": null,
   "id": "b8474238",
   "metadata": {},
   "outputs": [],
   "source": [
    "7.\tWrite a Python Program to check if a string contains any special character?"
   ]
  },
  {
   "cell_type": "code",
   "execution_count": 1,
   "id": "6ce3d71c",
   "metadata": {},
   "outputs": [
    {
     "name": "stdout",
     "output_type": "stream",
     "text": [
      "Please enter text: \"Hello, @World! How's it going?\"\n",
      "Special characters:{\"'\", '?', ',', '@', '!', '\"'}\n"
     ]
    }
   ],
   "source": [
    "def find_special_characters(input_string):\n",
    "    normal_characters = \"ABCDEFGHIJKLMNOPQRSTUVWXYZabcdefghijklmnopqrstuvwxyz0123456789 \"\n",
    "    special_chars = []\n",
    "    for char in input_string:\n",
    "        if char not in normal_characters:\n",
    "            special_chars.append(char)\n",
    "    return set(special_chars)\n",
    "\n",
    "def main():\n",
    "    string=(input(\"Please enter text: \"))\n",
    "    special_chars = find_special_characters(string)\n",
    "    if len(special_chars)!= 0:\n",
    "        print(f\"Special characters:{special_chars}\")\n",
    "    else:\n",
    "        print(f\"There is no special character in the strings\")\n",
    "        \n",
    "if __name__ == \"__main__\":\n",
    "    main()"
   ]
  },
  {
   "cell_type": "code",
   "execution_count": null,
   "id": "fd5ef044",
   "metadata": {},
   "outputs": [],
   "source": []
  }
 ],
 "metadata": {
  "kernelspec": {
   "display_name": "Python 3 (ipykernel)",
   "language": "python",
   "name": "python3"
  },
  "language_info": {
   "codemirror_mode": {
    "name": "ipython",
    "version": 3
   },
   "file_extension": ".py",
   "mimetype": "text/x-python",
   "name": "python",
   "nbconvert_exporter": "python",
   "pygments_lexer": "ipython3",
   "version": "3.10.5"
  }
 },
 "nbformat": 4,
 "nbformat_minor": 5
}
