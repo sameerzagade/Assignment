{
 "cells": [
  {
   "cell_type": "code",
   "execution_count": null,
   "id": "c7032088",
   "metadata": {},
   "outputs": [],
   "source": [
    "Q1. Describe three applications for exception processing."
   ]
  },
  {
   "cell_type": "code",
   "execution_count": null,
   "id": "47400af0",
   "metadata": {},
   "outputs": [],
   "source": [
    "Python provides the number of built-in exceptions, but here we are describing the common standard exceptions. \n",
    "A list of common exceptions that can be thrown from a standard Python program is given below.\n",
    "\n",
    "ZeroDivisionError: Occurs when a number is divided by zero.\n",
    "NameError: It occurs when a name is not found. It may be local or global.\n",
    "IndentationError: If incorrect indentation is given.\n",
    "IOError: It occurs when Input Output operation fails.\n",
    "EOFError: It occurs when the end of the file is reached, and yet operations are being performed."
   ]
  },
  {
   "cell_type": "code",
   "execution_count": null,
   "id": "e24c91cf",
   "metadata": {},
   "outputs": [],
   "source": [
    "Q2. What happens if you don't do something extra to treat an exception?"
   ]
  },
  {
   "cell_type": "code",
   "execution_count": null,
   "id": "cb4fa98c",
   "metadata": {},
   "outputs": [],
   "source": [
    "When an exception occurred, if you don't handle it, the program terminates abruptly and the code past the line that caused the exception will not get executed."
   ]
  },
  {
   "cell_type": "code",
   "execution_count": null,
   "id": "836a0a9d",
   "metadata": {},
   "outputs": [],
   "source": [
    "Q3. What are your options for recovering from an exception in your script?"
   ]
  },
  {
   "cell_type": "code",
   "execution_count": null,
   "id": "6f54ce8f",
   "metadata": {},
   "outputs": [],
   "source": [
    "Exception handling and logging the exceptions are basic ideas that a programmer should follow. Also writing the code in modular fashion helps in easily \n",
    "finding the errors in end products and logging make it easier for developers to resolve the issue at their end."
   ]
  },
  {
   "cell_type": "code",
   "execution_count": null,
   "id": "d398dbec",
   "metadata": {},
   "outputs": [],
   "source": [
    "Q4. Describe two methods for triggering exceptions in your script."
   ]
  },
  {
   "cell_type": "code",
   "execution_count": null,
   "id": "e1581efa",
   "metadata": {},
   "outputs": [],
   "source": [
    "An unhandled exception displays an error message and the program suddenly crashes. To avoid such a scenario, there are two methods to handle Python exceptions:\n",
    "\n",
    "Try – This method catches the exceptions raised by the program\n",
    "\n",
    "Raise – Triggers an exception manually using custom exceptions"
   ]
  },
  {
   "cell_type": "code",
   "execution_count": null,
   "id": "d5422d5a",
   "metadata": {},
   "outputs": [],
   "source": [
    "Q5. Identify two methods for specifying actions to be executed at termination time, regardless of whether or not an exception exists."
   ]
  },
  {
   "cell_type": "code",
   "execution_count": null,
   "id": "51673868",
   "metadata": {},
   "outputs": [],
   "source": [
    "These methods are finally and atexit a simple example using them is shown above.\n",
    "\n",
    "The finally Block: The finally block is part of the try/except structure in Python. The code within the finally block will be executed no matter how the preceding code block is exited.\n",
    "    This includes normal termination, break, continue, return, and exceptions. Here’s an example:\n",
    "\n",
    "The atexit Module: The atexit module allows you to register functions that will be called when your program is terminating.\n",
    "    These functions will be called in the reverse order that they were registered. Here’s an example:"
   ]
  }
 ],
 "metadata": {
  "kernelspec": {
   "display_name": "Python 3 (ipykernel)",
   "language": "python",
   "name": "python3"
  },
  "language_info": {
   "codemirror_mode": {
    "name": "ipython",
    "version": 3
   },
   "file_extension": ".py",
   "mimetype": "text/x-python",
   "name": "python",
   "nbconvert_exporter": "python",
   "pygments_lexer": "ipython3",
   "version": "3.11.5"
  }
 },
 "nbformat": 4,
 "nbformat_minor": 5
}
