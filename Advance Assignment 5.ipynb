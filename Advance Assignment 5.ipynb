{
 "cells": [
  {
   "cell_type": "code",
   "execution_count": null,
   "id": "17ba49fb",
   "metadata": {},
   "outputs": [],
   "source": [
    "Q1. What is the meaning of multiple inheritance?"
   ]
  },
  {
   "cell_type": "code",
   "execution_count": null,
   "id": "9a8f8fe8",
   "metadata": {},
   "outputs": [],
   "source": [
    "Multiple inheritance means that a subclass can inherit from two or more superclasses."
   ]
  },
  {
   "cell_type": "code",
   "execution_count": null,
   "id": "1214846c",
   "metadata": {},
   "outputs": [],
   "source": [
    "Q2. What is the concept of delegation?"
   ]
  },
  {
   "cell_type": "code",
   "execution_count": null,
   "id": "938c378e",
   "metadata": {},
   "outputs": [],
   "source": [
    "Delegation in Python is a design pattern where an object, known as the delegate, is given the responsibility to perform certain tasks on behalf of another object, \n",
    "known as the delegator. This is achieved by the delegator forwarding method calls and attribute access to the delegate"
   ]
  },
  {
   "cell_type": "code",
   "execution_count": null,
   "id": "556841d6",
   "metadata": {},
   "outputs": [],
   "source": [
    "Q3. What is the concept of composition?"
   ]
  },
  {
   "cell_type": "code",
   "execution_count": null,
   "id": "e7977609",
   "metadata": {},
   "outputs": [],
   "source": [
    "It is one of the fundamental concepts of Object-Oriented Programming. In this concept, we describe a class that references to one or more objects of other \n",
    "classes as an Instance variable. Here, by using the class name or by creating the object we can access the members of one class inside another class.\n",
    "It enables creating complex types by combining objects of different classes. It means that a class Composite can contain an object of another class Component. \n",
    "This type of relationship is known as Has-A Relation."
   ]
  },
  {
   "cell_type": "code",
   "execution_count": null,
   "id": "1799477d",
   "metadata": {},
   "outputs": [],
   "source": [
    "Q4. What are bound methods and how do we use them?"
   ]
  },
  {
   "cell_type": "code",
   "execution_count": null,
   "id": "16a0f4fe",
   "metadata": {},
   "outputs": [],
   "source": [
    "A bound method is the one which is dependent on the instance of the class as the first argument. \n",
    "It passes the instance as the first argument which is used to access the variables and functions. In Python 3 and newer versions of python, \n",
    "all functions in the class are by default bound methods."
   ]
  },
  {
   "cell_type": "code",
   "execution_count": null,
   "id": "a7ae5b57",
   "metadata": {},
   "outputs": [],
   "source": [
    "Q5. What is the purpose of pseudoprivate attributes?"
   ]
  },
  {
   "cell_type": "code",
   "execution_count": null,
   "id": "87eef5e8",
   "metadata": {},
   "outputs": [],
   "source": [
    "Pseudoprivate attributes are useful in larger frameworks or tools, both to avoid introducing new method names that might accidentally hide definitions \n",
    "elsewhere in the class tree and to reduce the chance of internal methods being replaced by names defined lower in the tree."
   ]
  }
 ],
 "metadata": {
  "kernelspec": {
   "display_name": "Python 3 (ipykernel)",
   "language": "python",
   "name": "python3"
  },
  "language_info": {
   "codemirror_mode": {
    "name": "ipython",
    "version": 3
   },
   "file_extension": ".py",
   "mimetype": "text/x-python",
   "name": "python",
   "nbconvert_exporter": "python",
   "pygments_lexer": "ipython3",
   "version": "3.11.5"
  }
 },
 "nbformat": 4,
 "nbformat_minor": 5
}
