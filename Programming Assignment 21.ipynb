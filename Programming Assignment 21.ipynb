{
 "cells": [
  {
   "cell_type": "code",
   "execution_count": null,
   "id": "05520e19",
   "metadata": {},
   "outputs": [],
   "source": [
    "Question1\n",
    "Write a function that takes a list and a number as arguments. Add the number to the end of the list, then remove the first element of the list. The function should then return the updated list.\n",
    "Examples\n",
    "next_in_line([5, 6, 7, 8, 9], 1) ➞ [6, 7, 8, 9, 1]\n",
    "\n",
    "next_in_line([7, 6, 3, 23, 17], 10) ➞ [6, 3, 23, 17, 10]\n",
    "\n",
    "next_in_line([1, 10, 20, 42 ], 6) ➞ [10, 20, 42, 6]\n",
    "\n",
    "next_in_line([], 6) ➞ \"No list has been selected\"\n"
   ]
  },
  {
   "cell_type": "code",
   "execution_count": 10,
   "id": "11234be5",
   "metadata": {},
   "outputs": [],
   "source": [
    "def next_in_line(lst: list, num: int) -> list:\n",
    "    lst.append(num)\n",
    "    lst.pop(0)\n",
    "    return lst"
   ]
  },
  {
   "cell_type": "code",
   "execution_count": 11,
   "id": "2c7d5e1e",
   "metadata": {},
   "outputs": [
    {
     "data": {
      "text/plain": [
       "[6, 7, 8, 9, 1]"
      ]
     },
     "execution_count": 11,
     "metadata": {},
     "output_type": "execute_result"
    }
   ],
   "source": [
    "next_in_line([5, 6, 7, 8, 9],1)"
   ]
  },
  {
   "cell_type": "code",
   "execution_count": null,
   "id": "f12974e4",
   "metadata": {},
   "outputs": [],
   "source": [
    "Question2\n",
    "Create the function that takes a list of dictionaries and returns the sum of people's budgets.\n",
    "Examples\n",
    "get_budgets([\n",
    "  { \"name\": \"John\", \"age\": 21, \"budget\": 23000 },\n",
    "  { \"name\": \"Steve\",  \"age\": 32, \"budget\": 40000 },\n",
    "  { \"name\": \"Martin\",  \"age\": 16, \"budget\": 2700 }\n",
    "]) ➞ 65700\n",
    "\n",
    "get_budgets([\n",
    "  { \"name\": \"John\",  \"age\": 21, \"budget\": 29000 },\n",
    "  { \"name\": \"Steve\",  \"age\": 32, \"budget\": 32000 },\n",
    "  { \"name\": \"Martin\",  \"age\": 16, \"budget\": 1600 }\n",
    "]) ➞ 62600\n"
   ]
  },
  {
   "cell_type": "code",
   "execution_count": 36,
   "id": "6d75c1cc",
   "metadata": {},
   "outputs": [
    {
     "data": {
      "text/plain": [
       "65700"
      ]
     },
     "execution_count": 36,
     "metadata": {},
     "output_type": "execute_result"
    }
   ],
   "source": [
    "def get_budgets(lst):\n",
    "    total_budget = sum(item[\"budget\"] for item in lst)\n",
    "    return total_budget \n",
    "\n",
    "get_budgets([\n",
    "  { \"name\": \"John\", \"age\": 21, \"budget\": 23000 },\n",
    "  { \"name\": \"Steve\",  \"age\": 32, \"budget\": 40000 },\n",
    "  { \"name\": \"Martin\",  \"age\": 16, \"budget\": 2700 }\n",
    "])\n"
   ]
  },
  {
   "cell_type": "code",
   "execution_count": null,
   "id": "d83addea",
   "metadata": {},
   "outputs": [],
   "source": [
    "Question3\n",
    "Create a function that takes a string and returns a string with its letters in alphabetical order.\n",
    "Examples\n",
    "alphabet_soup(\"hello\") ➞ \"ehllo\"\n",
    "\n",
    "alphabet_soup(\"edabit\") ➞ \"abdeit\"\n",
    "\n",
    "alphabet_soup(\"hacker\") ➞ \"acehkr\"\n",
    "\n",
    "alphabet_soup(\"geek\") ➞ \"eegk\"\n",
    "\n",
    "alphabet_soup(\"javascript\") ➞ \"aacijprstv\"\n"
   ]
  },
  {
   "cell_type": "code",
   "execution_count": 39,
   "id": "3be3d8aa",
   "metadata": {},
   "outputs": [],
   "source": [
    "def alphabet_soup(word):\n",
    "     return \"\".join(sorted(word))"
   ]
  },
  {
   "cell_type": "code",
   "execution_count": 40,
   "id": "39fabc65",
   "metadata": {},
   "outputs": [
    {
     "data": {
      "text/plain": [
       "'ehllo'"
      ]
     },
     "execution_count": 40,
     "metadata": {},
     "output_type": "execute_result"
    }
   ],
   "source": [
    "alphabet_soup(\"hello\")"
   ]
  },
  {
   "cell_type": "code",
   "execution_count": null,
   "id": "2c01e565",
   "metadata": {},
   "outputs": [],
   "source": [
    "Question4\n",
    "Suppose that you invest $10,000 for 10 years at an interest rate of 6% compounded monthly. What will be the value of your investment at the end of the 10 year period?\n",
    "Create a function that accepts the principal p, the term in years t, the interest rate r, and the number of compounding periods per year n. The function returns the value at the end of term rounded to the nearest cent.\n",
    "For the example above:\n",
    "compound_interest(10000, 10, 0.06, 12) ➞ 18193.97\n",
    "Note that the interest rate is given as a decimal and n=12 because with monthly compounding there are 12 periods per year. Compounding can also be done annually, quarterly, weekly, or daily.\n"
   ]
  },
  {
   "cell_type": "code",
   "execution_count": 53,
   "id": "5cf5580b",
   "metadata": {},
   "outputs": [],
   "source": [
    "def compound_interest(p, t, r, n):\n",
    "    a = p * (1 + r / n) ** (n * t)\n",
    "    a= round(a, 2)\n",
    "    return (f\"The value of your investment after {years} years will be ${result:.2f}\")"
   ]
  },
  {
   "cell_type": "code",
   "execution_count": 54,
   "id": "6d3401a8",
   "metadata": {},
   "outputs": [
    {
     "data": {
      "text/plain": [
       "'The value of your investment after 10 years will be $18193.97'"
      ]
     },
     "execution_count": 54,
     "metadata": {},
     "output_type": "execute_result"
    }
   ],
   "source": [
    "compound_interest(10000, 10, 0.06, 12)"
   ]
  },
  {
   "cell_type": "code",
   "execution_count": null,
   "id": "2e1146e2",
   "metadata": {},
   "outputs": [],
   "source": [
    "Question5\n",
    "Write a function that takes a list of elements and returns only the integers.\n",
    "Examples\n",
    "return_only_integer([9, 2, \"space\", \"car\", \"lion\", 16]) ➞ [9, 2, 16]\n",
    "\n",
    "return_only_integer([\"hello\", 81, \"basketball\", 123, \"fox\"]) ➞ [81, 123]\n",
    "\n",
    "return_only_integer([10, \"121\", 56, 20, \"car\", 3, \"lion\"]) ➞ [10, 56, 20, 3]\n",
    "\n",
    "return_only_integer([\"String\",  True,  3.3,  1]) ➞ [1]"
   ]
  },
  {
   "cell_type": "code",
   "execution_count": 55,
   "id": "4fc33789",
   "metadata": {},
   "outputs": [],
   "source": [
    "def return_only_integer(lst: list) -> list:\n",
    "    return [i for i in lst if type(i)==int]"
   ]
  },
  {
   "cell_type": "code",
   "execution_count": 59,
   "id": "b5ea77c0",
   "metadata": {},
   "outputs": [
    {
     "data": {
      "text/plain": [
       "[1]"
      ]
     },
     "execution_count": 59,
     "metadata": {},
     "output_type": "execute_result"
    }
   ],
   "source": [
    "return_only_integer([\"String\",  True,  3.3,  1])"
   ]
  },
  {
   "cell_type": "code",
   "execution_count": null,
   "id": "60686f95",
   "metadata": {},
   "outputs": [],
   "source": []
  }
 ],
 "metadata": {
  "kernelspec": {
   "display_name": "Python 3 (ipykernel)",
   "language": "python",
   "name": "python3"
  },
  "language_info": {
   "codemirror_mode": {
    "name": "ipython",
    "version": 3
   },
   "file_extension": ".py",
   "mimetype": "text/x-python",
   "name": "python",
   "nbconvert_exporter": "python",
   "pygments_lexer": "ipython3",
   "version": "3.11.5"
  }
 },
 "nbformat": 4,
 "nbformat_minor": 5
}
