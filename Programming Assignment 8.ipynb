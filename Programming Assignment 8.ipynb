{
 "cells": [
  {
   "cell_type": "code",
   "execution_count": null,
   "id": "cff66553",
   "metadata": {},
   "outputs": [],
   "source": [
    "#1. Write a Python Program to Add Two Matrices?\n"
   ]
  },
  {
   "cell_type": "code",
   "execution_count": 9,
   "id": "9a9909a6",
   "metadata": {},
   "outputs": [
    {
     "name": "stdout",
     "output_type": "stream",
     "text": [
      "[[20 24 28]\n",
      " [32 36 40]\n",
      " [44 48 52]]\n"
     ]
    }
   ],
   "source": [
    "import numpy as np\n",
    "a = [[1,3,5],\n",
    "    [7,9,11],\n",
    "    [13,15,17]]\n",
    "b = [[19,21,23],\n",
    "    [25,27,29],\n",
    "    [31,33,35]]\n",
    " \n",
    "result = np.array(a) + np.array(b)\n",
    "print(result)"
   ]
  },
  {
   "cell_type": "code",
   "execution_count": null,
   "id": "137d4053",
   "metadata": {},
   "outputs": [],
   "source": [
    "#2. Write a Python Program to Multiply Two Matrices?\n"
   ]
  },
  {
   "cell_type": "code",
   "execution_count": 10,
   "id": "4585c0a8",
   "metadata": {},
   "outputs": [
    {
     "name": "stdout",
     "output_type": "stream",
     "text": [
      "[[ 19  63 115]\n",
      " [175 243 319]\n",
      " [403 495 595]]\n"
     ]
    }
   ],
   "source": [
    "import numpy as np\n",
    "a = [[1,3,5],\n",
    "    [7,9,11],\n",
    "    [13,15,17]]\n",
    "b = [[19,21,23],\n",
    "    [25,27,29],\n",
    "    [31,33,35]]\n",
    " \n",
    "result = np.array(a) * np.array(b)\n",
    "print(result)"
   ]
  },
  {
   "cell_type": "code",
   "execution_count": null,
   "id": "dfe54f02",
   "metadata": {},
   "outputs": [],
   "source": [
    "#3. Write a Python Program to Transpose a Matrix?\n"
   ]
  },
  {
   "cell_type": "code",
   "execution_count": 13,
   "id": "93836c00",
   "metadata": {},
   "outputs": [
    {
     "name": "stdout",
     "output_type": "stream",
     "text": [
      "[[ 1  7 13]\n",
      " [ 3  9 15]\n",
      " [ 5 11 17]]\n"
     ]
    }
   ],
   "source": [
    "import numpy as np\n",
    "a = [[1,3,5],\n",
    "    [7,9,11],\n",
    "    [13,15,17]]\n",
    "result=np.transpose(a)\n",
    "print(result)"
   ]
  },
  {
   "cell_type": "code",
   "execution_count": 12,
   "id": "b06c5780",
   "metadata": {},
   "outputs": [],
   "source": [
    "#4. Write a Python Program to Sort Words in Alphabetic Order?"
   ]
  },
  {
   "cell_type": "code",
   "execution_count": null,
   "id": "0cc219ac",
   "metadata": {},
   "outputs": [],
   "source": [
    "txt= input(\"Enter any text, will sort it by words: \")\n",
    "words = [txt.lower() for txt in txt.split()]\n",
    "words.sort()\n",
    "\n",
    "print (words)"
   ]
  },
  {
   "cell_type": "code",
   "execution_count": null,
   "id": "dd26ec8c",
   "metadata": {},
   "outputs": [],
   "source": [
    "#5. Write a Python Program to Remove Punctuation From a String?"
   ]
  },
  {
   "cell_type": "code",
   "execution_count": 16,
   "id": "296b5d68",
   "metadata": {},
   "outputs": [
    {
     "name": "stdout",
     "output_type": "stream",
     "text": [
      "Enter any text, will remove punctuation: Hello, Good Morning; Have a nice day!!\n",
      "Hello Good Morning Have a nice day\n"
     ]
    }
   ],
   "source": [
    "import string\n",
    "a_string = input(\"Enter any text, will remove punctuation: \")\n",
    "new_string = a_string.translate(str.maketrans('', '', string.punctuation))\n",
    "\n",
    "print(new_string)"
   ]
  },
  {
   "cell_type": "code",
   "execution_count": null,
   "id": "0429458e",
   "metadata": {},
   "outputs": [],
   "source": []
  }
 ],
 "metadata": {
  "kernelspec": {
   "display_name": "Python 3 (ipykernel)",
   "language": "python",
   "name": "python3"
  },
  "language_info": {
   "codemirror_mode": {
    "name": "ipython",
    "version": 3
   },
   "file_extension": ".py",
   "mimetype": "text/x-python",
   "name": "python",
   "nbconvert_exporter": "python",
   "pygments_lexer": "ipython3",
   "version": "3.10.5"
  }
 },
 "nbformat": 4,
 "nbformat_minor": 5
}
