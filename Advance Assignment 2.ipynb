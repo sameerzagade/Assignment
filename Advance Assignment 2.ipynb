{
 "cells": [
  {
   "cell_type": "code",
   "execution_count": null,
   "id": "428866a5",
   "metadata": {},
   "outputs": [],
   "source": [
    "Q1. What is the relationship between classes and modules?"
   ]
  },
  {
   "cell_type": "code",
   "execution_count": null,
   "id": "106de9c3",
   "metadata": {},
   "outputs": [],
   "source": [
    "A module is a file containing related code which can include functions, classes, or variables. \n",
    "A class is a blueprint for creating objects and can be defined inside a module. \n",
    "So, you can group related classes inside a module and import that module to use the classes. This helps in organizing your code effectively."
   ]
  },
  {
   "cell_type": "code",
   "execution_count": null,
   "id": "4b33cb4b",
   "metadata": {},
   "outputs": [],
   "source": [
    "Q2. How do you make instances and classes?"
   ]
  },
  {
   "cell_type": "code",
   "execution_count": null,
   "id": "6db8fdd4",
   "metadata": {},
   "outputs": [],
   "source": [
    "In Python, a class is created using the class keyword. An instance of a class (also known as an object) is created by calling the class as if it were a function."
   ]
  },
  {
   "cell_type": "code",
   "execution_count": null,
   "id": "347d172e",
   "metadata": {},
   "outputs": [],
   "source": [
    "Q3. Where and how should be class attributes created?"
   ]
  },
  {
   "cell_type": "code",
   "execution_count": null,
   "id": "ddb8496b",
   "metadata": {},
   "outputs": [],
   "source": [
    "class attributes are created within the class definition, outside of any methods. They are shared by all instances of the class."
   ]
  },
  {
   "cell_type": "code",
   "execution_count": null,
   "id": "893bff65",
   "metadata": {},
   "outputs": [],
   "source": [
    "Q4. Where and how are instance attributes created?"
   ]
  },
  {
   "cell_type": "code",
   "execution_count": null,
   "id": "93d26bb9",
   "metadata": {},
   "outputs": [],
   "source": [
    "instance attributes are created within methods using the self keyword, typically in the __init__ method. They are unique to each instance of the class."
   ]
  },
  {
   "cell_type": "code",
   "execution_count": null,
   "id": "102ce926",
   "metadata": {},
   "outputs": [],
   "source": [
    "Q5. What does the term \"self\" in a Python class mean?"
   ]
  },
  {
   "cell_type": "code",
   "execution_count": null,
   "id": "93f8af32",
   "metadata": {},
   "outputs": [],
   "source": [
    "the term self is used in the methods of a class to reference the current instance of the class. It’s the first parameter in the method definition"
   ]
  },
  {
   "cell_type": "code",
   "execution_count": null,
   "id": "5df5bd06",
   "metadata": {},
   "outputs": [],
   "source": [
    "Q6. How does a Python class handle operator overloading?"
   ]
  },
  {
   "cell_type": "code",
   "execution_count": null,
   "id": "cda0c16b",
   "metadata": {},
   "outputs": [],
   "source": [
    "Operator overloading is handled by defining special methods in the class, often referred to as “dunder” (double underscore) methods. \n",
    "These methods are automatically invoked when associated operations are performed on the class instances"
   ]
  },
  {
   "cell_type": "code",
   "execution_count": null,
   "id": "d6fdc7e9",
   "metadata": {},
   "outputs": [],
   "source": [
    "Q7. When do you consider allowing operator overloading of your classes?"
   ]
  },
  {
   "cell_type": "code",
   "execution_count": null,
   "id": "0a1c8b84",
   "metadata": {},
   "outputs": [],
   "source": [
    "Operator overloading in Python classes is considered when you want to:\n",
    "\n",
    "Customize Behavior: Define custom behavior for standard operators with your class objects.\n",
    "Mimic Built-in Types: Make your classes behave more like Python’s built-in types."
   ]
  },
  {
   "cell_type": "code",
   "execution_count": null,
   "id": "0a333434",
   "metadata": {},
   "outputs": [],
   "source": [
    "Q8. What is the most popular form of operator overloading?"
   ]
  },
  {
   "cell_type": "code",
   "execution_count": null,
   "id": "2b0a2ac0",
   "metadata": {},
   "outputs": [],
   "source": [
    "The most popular form of operator overloading is probably the arithmetic operators (+, -, *, /, etc.) and comparison operators (==, !=, <, >, etc.). \n",
    "These are frequently overloaded in classes that have a mathematical or comparable nature. "
   ]
  },
  {
   "cell_type": "code",
   "execution_count": null,
   "id": "44fd5b05",
   "metadata": {},
   "outputs": [],
   "source": [
    "Q9. What are the two most important concepts to grasp in order to comprehend Python OOP code?"
   ]
  },
  {
   "cell_type": "code",
   "execution_count": null,
   "id": "1bdc5f1e",
   "metadata": {},
   "outputs": [],
   "source": [
    "Classes and Objects: Understanding the concept of classes and objects is fundamental. A class is a blueprint for creating objects, and objects are instances of a class. They can have properties (attributes) and behaviors (methods).\n",
    "Inheritance and Polymorphism: Inheritance allows a class to inherit attributes and methods from another class, promoting code reusability. Polymorphism allows us to use a single interface with different underlying forms, providing flexibility in using classes and objects."
   ]
  }
 ],
 "metadata": {
  "kernelspec": {
   "display_name": "Python 3 (ipykernel)",
   "language": "python",
   "name": "python3"
  },
  "language_info": {
   "codemirror_mode": {
    "name": "ipython",
    "version": 3
   },
   "file_extension": ".py",
   "mimetype": "text/x-python",
   "name": "python",
   "nbconvert_exporter": "python",
   "pygments_lexer": "ipython3",
   "version": "3.11.5"
  }
 },
 "nbformat": 4,
 "nbformat_minor": 5
}
