{
 "cells": [
  {
   "cell_type": "markdown",
   "id": "2c9e1e1f",
   "metadata": {},
   "source": [
    "1.\tWrite a Python Program to Find LCM?"
   ]
  },
  {
   "cell_type": "code",
   "execution_count": null,
   "id": "aa0ded7b",
   "metadata": {},
   "outputs": [],
   "source": [
    "n = int(input(\"Enter a first number to find its LCM \"))\n",
    "n1 = int(input(\"Enter a second number to find its LCM \"))\n",
    "i=2\n",
    "while (True):\n",
    "    if (i%n == 0) and (i%n1 == 0):\n",
    "        break\n",
    "    i +=1\n",
    "print(\"LCM of given two number is \", i)"
   ]
  },
  {
   "cell_type": "markdown",
   "id": "88857434",
   "metadata": {},
   "source": [
    "2.\tWrite a Python Program to Find HCF?"
   ]
  },
  {
   "cell_type": "code",
   "execution_count": null,
   "id": "2f88b477",
   "metadata": {},
   "outputs": [],
   "source": [
    "n = int(input(\"Enter a first number to find its HCM \"))\n",
    "n1 = int(input(\"Enter a second number to find its HCM \"))\n",
    "HCF = 1\n",
    "\n",
    "if n > n1:\n",
    "    s = n1 \n",
    "else:\n",
    "    s = n\n",
    "\n",
    "for i in range (1, s+1):\n",
    "    if n%i == 0 and n1%i == 0:\n",
    "        HCF = i\n",
    "    else:\n",
    "        pass\n",
    "print(\"HCF is\", HCF)\n",
    "\n"
   ]
  },
  {
   "cell_type": "markdown",
   "id": "cf50667d",
   "metadata": {},
   "source": [
    "3.\tWrite a Python Program to Convert Decimal to Binary, Octal and Hexadecimal?"
   ]
  },
  {
   "cell_type": "code",
   "execution_count": null,
   "id": "1ba5f705",
   "metadata": {
    "scrolled": true
   },
   "outputs": [],
   "source": [
    "n = int(input(\"Enter a number \"))\n",
    "convert = int(input(\"convert into: [1] Binary, [2] Octal, [3] Hexadecimal: \\n\"))\n",
    "\n",
    "if convert == 1:\n",
    "    print(f\"conversion of {n} to Binary \\n\", bin(n))\n",
    "elif convert == 2:\n",
    "    print(\"converted to Octal \\n\", oct(n))\n",
    "elif convert == 3:\n",
    "    print(\"converted to Hexadecimal \\n\", hex(n))\n",
    "else:\n",
    "    print(\"Please review your input\")"
   ]
  },
  {
   "cell_type": "code",
   "execution_count": null,
   "id": "02c145f7",
   "metadata": {},
   "outputs": [],
   "source": [
    "n = int(input(\"Enter a number \"))\n",
    "\n",
    "print(f\"conversion of {n} to Binary is \", bin(n))\n",
    "print(f\"conversion of {n} to Octal is \", oct(n))\n",
    "print(f\"conversion of {n} to Hexadecimal is \", hex(n))"
   ]
  },
  {
   "cell_type": "markdown",
   "id": "d8c6fa2d",
   "metadata": {},
   "source": [
    "4. Write a Python Program To Find ASCII value of a character?"
   ]
  },
  {
   "cell_type": "code",
   "execution_count": null,
   "id": "e6c35f46",
   "metadata": {},
   "outputs": [],
   "source": [
    "text=(input(\"enter any text \"))\n",
    "\n",
    "for i in text:\n",
    "    print(f\"The ASCII value of {i} is \", ord(i))"
   ]
  },
  {
   "cell_type": "markdown",
   "id": "4116e289",
   "metadata": {},
   "source": [
    "5.\tWrite a Python Program to Make a Simple Calculator with 4 basic mathematical operations?"
   ]
  },
  {
   "cell_type": "code",
   "execution_count": 14,
   "id": "e0289911",
   "metadata": {},
   "outputs": [],
   "source": [
    "#n = int(input(\"Enter a first number \"))\n",
    "#n1 = int(input(\"Enter a second number \"))\n",
    "\n",
    "def calculator(x,y):\n",
    "    return \"The addition of the number is \", (x+y) ,  \"The subtraction of the number is \", (x-y), \"The division of the number is \", (x/y), \"The multiplication of the number is \", (x*y) \n",
    "    "
   ]
  },
  {
   "cell_type": "code",
   "execution_count": 15,
   "id": "7c9a7d93",
   "metadata": {},
   "outputs": [
    {
     "data": {
      "text/plain": [
       "('The addition of the number is ',\n",
       " 8,\n",
       " 'The subtraction of the number is ',\n",
       " 4,\n",
       " 'The division of the number is ',\n",
       " 3.0,\n",
       " 'The multiplication of the number is ',\n",
       " 12)"
      ]
     },
     "execution_count": 15,
     "metadata": {},
     "output_type": "execute_result"
    }
   ],
   "source": [
    "calculator(6,2)"
   ]
  },
  {
   "cell_type": "code",
   "execution_count": null,
   "id": "ef413249",
   "metadata": {},
   "outputs": [],
   "source": []
  }
 ],
 "metadata": {
  "kernelspec": {
   "display_name": "Python 3 (ipykernel)",
   "language": "python",
   "name": "python3"
  },
  "language_info": {
   "codemirror_mode": {
    "name": "ipython",
    "version": 3
   },
   "file_extension": ".py",
   "mimetype": "text/x-python",
   "name": "python",
   "nbconvert_exporter": "python",
   "pygments_lexer": "ipython3",
   "version": "3.10.5"
  }
 },
 "nbformat": 4,
 "nbformat_minor": 5
}
